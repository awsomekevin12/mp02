{
 "cells": [
  {
   "cell_type": "markdown",
   "metadata": {},
   "source": [
    "# Code to build yield curve\n"
   ]
  },
  {
   "cell_type": "code",
   "execution_count": 1,
   "metadata": {},
   "outputs": [],
   "source": [
    "# Reading the excel and setting up data\n",
    "import pandas as pd\n",
    "import numpy as np\n",
    "from datetime import datetime\n",
    "from dateutil.relativedelta import relativedelta\n",
    "from scipy.optimize import minimize, brentq\n",
    "import plotly.graph_objects as go\n",
    "import plotly.io as pio\n",
    "import io\n",
    "\n",
    "pio.templates.default = \"plotly_white\"\n",
    "\n",
    "\n",
    "df_raw = pd.read_excel(\"data.xlsx\")\n"
   ]
  },
  {
   "cell_type": "markdown",
   "metadata": {},
   "source": [
    "### Data preprocessing"
   ]
  },
  {
   "cell_type": "code",
   "execution_count": null,
   "metadata": {},
   "outputs": [
    {
     "name": "stdout",
     "output_type": "stream",
     "text": [
      "Data pre-processing complete. Valuation Date: 2025-02-28\n",
      "\n",
      "DataFrame with generated cash flows:\n"
     ]
    },
    {
     "data": {
      "text/html": [
       "<div>\n",
       "<style scoped>\n",
       "    .dataframe tbody tr th:only-of-type {\n",
       "        vertical-align: middle;\n",
       "    }\n",
       "\n",
       "    .dataframe tbody tr th {\n",
       "        vertical-align: top;\n",
       "    }\n",
       "\n",
       "    .dataframe thead th {\n",
       "        text-align: right;\n",
       "    }\n",
       "</style>\n",
       "<table border=\"1\" class=\"dataframe\">\n",
       "  <thead>\n",
       "    <tr style=\"text-align: right;\">\n",
       "      <th></th>\n",
       "      <th>Issuer Name</th>\n",
       "      <th>Issue Date</th>\n",
       "      <th>Maturity</th>\n",
       "      <th>Bid Price</th>\n",
       "      <th>Ask Price</th>\n",
       "      <th>Cpn</th>\n",
       "      <th>Currency</th>\n",
       "      <th>Market_Price</th>\n",
       "      <th>Maturity_in_Years</th>\n",
       "      <th>Cashflows</th>\n",
       "    </tr>\n",
       "  </thead>\n",
       "  <tbody>\n",
       "    <tr>\n",
       "      <th>0</th>\n",
       "      <td>United States Treasury Note/Bond</td>\n",
       "      <td>2018-02-28</td>\n",
       "      <td>2025-02-28</td>\n",
       "      <td>99.980469</td>\n",
       "      <td>100.007812</td>\n",
       "      <td>2.750</td>\n",
       "      <td>USD</td>\n",
       "      <td>99.994141</td>\n",
       "      <td>0.000000</td>\n",
       "      <td>[(0.0, 101.375)]</td>\n",
       "    </tr>\n",
       "    <tr>\n",
       "      <th>1</th>\n",
       "      <td>United States Treasury Note/Bond</td>\n",
       "      <td>2023-02-28</td>\n",
       "      <td>2025-02-28</td>\n",
       "      <td>99.984375</td>\n",
       "      <td>100.019531</td>\n",
       "      <td>4.625</td>\n",
       "      <td>USD</td>\n",
       "      <td>100.001953</td>\n",
       "      <td>0.000000</td>\n",
       "      <td>[(0.0, 102.3125)]</td>\n",
       "    </tr>\n",
       "    <tr>\n",
       "      <th>2</th>\n",
       "      <td>United States Treasury Note/Bond</td>\n",
       "      <td>2020-03-02</td>\n",
       "      <td>2025-02-28</td>\n",
       "      <td>99.945312</td>\n",
       "      <td>100.011719</td>\n",
       "      <td>1.125</td>\n",
       "      <td>USD</td>\n",
       "      <td>99.978516</td>\n",
       "      <td>0.000000</td>\n",
       "      <td>[(0.0, 100.5625)]</td>\n",
       "    </tr>\n",
       "    <tr>\n",
       "      <th>3</th>\n",
       "      <td>United States Treasury Note/Bond</td>\n",
       "      <td>2022-03-15</td>\n",
       "      <td>2025-03-15</td>\n",
       "      <td>99.859375</td>\n",
       "      <td>99.914062</td>\n",
       "      <td>1.750</td>\n",
       "      <td>USD</td>\n",
       "      <td>99.886719</td>\n",
       "      <td>0.041068</td>\n",
       "      <td>[(0.04106776180698152, 100.875)]</td>\n",
       "    </tr>\n",
       "    <tr>\n",
       "      <th>4</th>\n",
       "      <td>United States Treasury Note/Bond</td>\n",
       "      <td>2020-03-31</td>\n",
       "      <td>2025-03-31</td>\n",
       "      <td>99.621094</td>\n",
       "      <td>99.703125</td>\n",
       "      <td>0.500</td>\n",
       "      <td>USD</td>\n",
       "      <td>99.662109</td>\n",
       "      <td>0.084873</td>\n",
       "      <td>[(0.08487337440109514, 100.25)]</td>\n",
       "    </tr>\n",
       "    <tr>\n",
       "      <th>...</th>\n",
       "      <td>...</td>\n",
       "      <td>...</td>\n",
       "      <td>...</td>\n",
       "      <td>...</td>\n",
       "      <td>...</td>\n",
       "      <td>...</td>\n",
       "      <td>...</td>\n",
       "      <td>...</td>\n",
       "      <td>...</td>\n",
       "      <td>...</td>\n",
       "    </tr>\n",
       "    <tr>\n",
       "      <th>342</th>\n",
       "      <td>United States Treasury Note/Bond</td>\n",
       "      <td>2024-02-15</td>\n",
       "      <td>2054-02-15</td>\n",
       "      <td>93.375000</td>\n",
       "      <td>93.421875</td>\n",
       "      <td>4.250</td>\n",
       "      <td>USD</td>\n",
       "      <td>93.398438</td>\n",
       "      <td>28.963723</td>\n",
       "      <td>[(0.459958932238193, 2.125), (0.96372347707049...</td>\n",
       "    </tr>\n",
       "    <tr>\n",
       "      <th>343</th>\n",
       "      <td>United States Treasury Note/Bond</td>\n",
       "      <td>2024-05-15</td>\n",
       "      <td>2054-05-15</td>\n",
       "      <td>99.437500</td>\n",
       "      <td>99.484375</td>\n",
       "      <td>4.625</td>\n",
       "      <td>USD</td>\n",
       "      <td>99.460938</td>\n",
       "      <td>29.207392</td>\n",
       "      <td>[(0.2080766598220397, 2.3125), (0.711841204654...</td>\n",
       "    </tr>\n",
       "    <tr>\n",
       "      <th>344</th>\n",
       "      <td>United States Treasury Note/Bond</td>\n",
       "      <td>2024-08-15</td>\n",
       "      <td>2054-08-15</td>\n",
       "      <td>93.531250</td>\n",
       "      <td>93.578125</td>\n",
       "      <td>4.250</td>\n",
       "      <td>USD</td>\n",
       "      <td>93.554688</td>\n",
       "      <td>29.459274</td>\n",
       "      <td>[(0.459958932238193, 2.125), (0.96372347707049...</td>\n",
       "    </tr>\n",
       "    <tr>\n",
       "      <th>345</th>\n",
       "      <td>United States Treasury Note/Bond</td>\n",
       "      <td>2024-11-15</td>\n",
       "      <td>2054-11-15</td>\n",
       "      <td>97.625000</td>\n",
       "      <td>97.656250</td>\n",
       "      <td>4.500</td>\n",
       "      <td>USD</td>\n",
       "      <td>97.640625</td>\n",
       "      <td>29.711157</td>\n",
       "      <td>[(0.2080766598220397, 2.25), (0.71184120465434...</td>\n",
       "    </tr>\n",
       "    <tr>\n",
       "      <th>346</th>\n",
       "      <td>United States Treasury Note/Bond</td>\n",
       "      <td>2025-02-18</td>\n",
       "      <td>2055-02-15</td>\n",
       "      <td>99.765625</td>\n",
       "      <td>99.796875</td>\n",
       "      <td>4.625</td>\n",
       "      <td>USD</td>\n",
       "      <td>99.781250</td>\n",
       "      <td>29.963039</td>\n",
       "      <td>[(0.459958932238193, 2.3125), (0.9637234770704...</td>\n",
       "    </tr>\n",
       "  </tbody>\n",
       "</table>\n",
       "<p>347 rows × 10 columns</p>\n",
       "</div>"
      ],
      "text/plain": [
       "                          Issuer Name Issue Date   Maturity  Bid Price  \\\n",
       "0    United States Treasury Note/Bond 2018-02-28 2025-02-28  99.980469   \n",
       "1    United States Treasury Note/Bond 2023-02-28 2025-02-28  99.984375   \n",
       "2    United States Treasury Note/Bond 2020-03-02 2025-02-28  99.945312   \n",
       "3    United States Treasury Note/Bond 2022-03-15 2025-03-15  99.859375   \n",
       "4    United States Treasury Note/Bond 2020-03-31 2025-03-31  99.621094   \n",
       "..                                ...        ...        ...        ...   \n",
       "342  United States Treasury Note/Bond 2024-02-15 2054-02-15  93.375000   \n",
       "343  United States Treasury Note/Bond 2024-05-15 2054-05-15  99.437500   \n",
       "344  United States Treasury Note/Bond 2024-08-15 2054-08-15  93.531250   \n",
       "345  United States Treasury Note/Bond 2024-11-15 2054-11-15  97.625000   \n",
       "346  United States Treasury Note/Bond 2025-02-18 2055-02-15  99.765625   \n",
       "\n",
       "      Ask Price    Cpn Currency  Market_Price  Maturity_in_Years  \\\n",
       "0    100.007812  2.750      USD     99.994141           0.000000   \n",
       "1    100.019531  4.625      USD    100.001953           0.000000   \n",
       "2    100.011719  1.125      USD     99.978516           0.000000   \n",
       "3     99.914062  1.750      USD     99.886719           0.041068   \n",
       "4     99.703125  0.500      USD     99.662109           0.084873   \n",
       "..          ...    ...      ...           ...                ...   \n",
       "342   93.421875  4.250      USD     93.398438          28.963723   \n",
       "343   99.484375  4.625      USD     99.460938          29.207392   \n",
       "344   93.578125  4.250      USD     93.554688          29.459274   \n",
       "345   97.656250  4.500      USD     97.640625          29.711157   \n",
       "346   99.796875  4.625      USD     99.781250          29.963039   \n",
       "\n",
       "                                             Cashflows  \n",
       "0                                     [(0.0, 101.375)]  \n",
       "1                                    [(0.0, 102.3125)]  \n",
       "2                                    [(0.0, 100.5625)]  \n",
       "3                     [(0.04106776180698152, 100.875)]  \n",
       "4                      [(0.08487337440109514, 100.25)]  \n",
       "..                                                 ...  \n",
       "342  [(0.459958932238193, 2.125), (0.96372347707049...  \n",
       "343  [(0.2080766598220397, 2.3125), (0.711841204654...  \n",
       "344  [(0.459958932238193, 2.125), (0.96372347707049...  \n",
       "345  [(0.2080766598220397, 2.25), (0.71184120465434...  \n",
       "346  [(0.459958932238193, 2.3125), (0.9637234770704...  \n",
       "\n",
       "[347 rows x 10 columns]"
      ]
     },
     "execution_count": 8,
     "metadata": {},
     "output_type": "execute_result"
    }
   ],
   "source": [
    "# Set the date for our analysis this is around the last coupon payment\n",
    "VALUATION_DATE = datetime(2025, 2, 28)\n",
    "\n",
    "# setting our actual prices and extracting maturity\n",
    "df = df_raw.copy()\n",
    "df['Issue Date'] = pd.to_datetime(df['Issue Date'])\n",
    "df['Maturity'] = pd.to_datetime(df['Maturity'])\n",
    "for col in ['Bid Price', 'Ask Price', 'Cpn']:\n",
    "    df[col] = pd.to_numeric(df[col])\n",
    "\n",
    "# we use mid price as market price\n",
    "df['Market_Price'] = (df['Bid Price'] + df['Ask Price']) / 2\n",
    "\n",
    "# We find maturity in years using date time \n",
    "# We use 365.25 to account for leap years on average.\n",
    "df['Maturity_in_Years'] = (df['Maturity'] - VALUATION_DATE).dt.days / 365.25\n",
    "\n",
    "\n",
    "def generate_cashflows(bond, valuation_date):\n",
    "    \"\"\"Generates a list of future cash flows for a single bond\"\"\"\n",
    "    \n",
    "    cashflows = []\n",
    "    coupon_amount = bond['Cpn'] / 2.0\n",
    "    maturity_date = bond['Maturity']\n",
    "    \n",
    "    # final payment is 100 + coupon\n",
    "    cashflows.append((maturity_date, 100.0 + coupon_amount))\n",
    "    \n",
    "    # Start from the maturity date and step backwards in 6-month intervals\n",
    "    # to find all coupon payment dates before the valuation date, we use relative delta \n",
    "    # to use date time to our advantae\n",
    "    \n",
    "    \n",
    "    payment_date = maturity_date\n",
    "    while True:\n",
    "        payment_date -= relativedelta(months=6)\n",
    "        if payment_date <= valuation_date:\n",
    "            break\n",
    "        cashflows.append((payment_date, coupon_amount))\n",
    "        \n",
    "    # Convert payment dates to time in years from the valuation date\n",
    "    cashflows_in_years = []\n",
    "    for p_date, amount in cashflows:\n",
    "        time_to_payment = (p_date - valuation_date).days / 365.25\n",
    "        cashflows_in_years.append((time_to_payment, amount))\n",
    "        \n",
    "    # Return sorted by time, which is crucial for pricing\n",
    "    return sorted(cashflows_in_years, key=lambda x: x[0])\n",
    "\n",
    "# Apply this function to every bond (row) in our DataFrame.\n",
    "df['Cashflows'] = df.apply(generate_cashflows, axis=1, valuation_date=VALUATION_DATE)\n",
    "\n",
    "print(f\"Data pre-processing complete. Valuation Date: {VALUATION_DATE.strftime('%Y-%m-%d')}\")\n",
    "print(\"\\nDataFrame with generated cash flows:\")\n",
    "df[['Maturity', 'Market_Price', 'Maturity_in_Years', 'Cashflows']].head()\n",
    "df"
   ]
  },
  {
   "cell_type": "markdown",
   "metadata": {},
   "source": [
    "### Step 3: Defining the Nelson-Siegel Model\n",
    "\n",
    "The Nelson-Siegel model describes the entire yield curve with just four parameters. This makes it powerful and efficient.\n",
    "\n",
    "The formula for the continuously compounded spot rate `r(t)` at time `t` is:\n",
    "\n",
    "`r(t) = β₀ + β₁ * [(1 - e^(-t/τ)) / (t/τ)] + β₂ * [(1 - e^(-t/τ)) / (t/τ) - e^(-t/τ)]`\n",
    "\n",
    "The four parameters have intuitive financial interpretations:\n",
    "- **`β₀` (beta0):** The long-run interest rate. As maturity `t` goes to infinity, the curve approaches this level.\n",
    "- **`β₁` (beta1):** The short-term slope. It determines the difference between the very short-term rate and the long-term rate.\n",
    "- **`β₂` (beta2):** The curvature. It introduces a \"hump\" or \"trough\" in the middle of the curve.\n",
    "- **`τ` (tau):** The scale parameter. It controls where the maximum curvature occurs.\n",
    "\n",
    "We will implement two functions:\n",
    "1. `nelson_siegel_rate()`: Directly implements the formula above.\n",
    "2. `price_bond_with_ns()`: Calculates a bond's theoretical price by taking its cash flows and discounting each one back to the present using the appropriate spot rate from our Nelson-Siegel curve."
   ]
  },
  {
   "cell_type": "code",
   "execution_count": 4,
   "metadata": {},
   "outputs": [],
   "source": [
    "def nelson_siegel_rate(t, beta0, beta1, beta2, tau):\n",
    "    \"\"\"Calculates the spot rate for time 't' using the Nelson-Siegel formula.\"\"\"\n",
    "    # Handle the edge case of t=0 to avoid division by zero\n",
    "    if t < 1e-6:\n",
    "        return beta0 + beta1\n",
    "        \n",
    "    term1 = beta0\n",
    "    term2 = beta1 * (1 - np.exp(-t / tau)) / (t / tau)\n",
    "    term3 = beta2 * ((1 - np.exp(-t / tau)) / (t / tau) - np.exp(-t / tau))\n",
    "    \n",
    "    return term1 + term2 + term3\n",
    "\n",
    "def price_bond_with_ns(cashflows, beta0, beta1, beta2, tau):\n",
    "    \"\"\"\n",
    "    Calculates the theoretical price of a bond by discounting its cash flows\n",
    "    using rates from the Nelson-Siegel curve.\n",
    "    \"\"\"\n",
    "    total_present_value = 0.0\n",
    "    for t, cf_amount in cashflows:\n",
    "        # Get the spot rate for this specific cash flow's time-to-payment\n",
    "        rate = nelson_siegel_rate(t, beta0, beta1, beta2, tau)\n",
    "        # Discount the cash flow using continuous compounding: PV = C * e^(-r*t)\n",
    "        total_present_value += cf_amount * np.exp(-rate * t)\n",
    "        \n",
    "    return total_present_value"
   ]
  },
  {
   "cell_type": "markdown",
   "metadata": {},
   "source": [
    "### Step 4: Creating the Objective Function\n",
    "\n",
    "Now we need a way to measure how well a given set of four parameters (`β₀, β₁, β₂, τ`) fits the market data. We do this with an **objective function** (or error function).\n",
    "\n",
    "The function will:\n",
    "1. Take a set of parameters as input.\n",
    "2. Loop through every bond in our dataset.\n",
    "3. For each bond, calculate its theoretical price using our `price_bond_with_ns` function.\n",
    "4. Calculate the difference between this model price and the actual `Market_Price`.\n",
    "5. Square this difference (to make it positive and to penalize larger errors more heavily).\n",
    "6. Sum up all these squared differences.\n",
    "\n",
    "The goal of the optimization process in the next step will be to find the parameters that make the output of this function as small as possible."
   ]
  },
  {
   "cell_type": "code",
   "execution_count": 5,
   "metadata": {},
   "outputs": [
    {
     "name": "stdout",
     "output_type": "stream",
     "text": [
      "Objective function is ready.\n",
      "Test run: Initial error with guess parameters [0.03, -0.01, 0.01, 1.5] is: 52508.2089\n"
     ]
    }
   ],
   "source": [
    "def objective_function(params, df_bonds):\n",
    "    \"\"\"\n",
    "    The function to be minimized. It calculates the sum of squared differences\n",
    "    between model prices and market prices for all bonds.\n",
    "    \"\"\"\n",
    "    beta0, beta1, beta2, tau = params\n",
    "    total_squared_error = 0.0\n",
    "    \n",
    "    for _, bond in df_bonds.iterrows():\n",
    "        model_price = price_bond_with_ns(bond['Cashflows'], beta0, beta1, beta2, tau)\n",
    "        market_price = bond['Market_Price']\n",
    "        \n",
    "        error = (model_price - market_price) ** 2\n",
    "        total_squared_error += error\n",
    "        \n",
    "    return total_squared_error\n",
    "\n",
    "# --- Test run of the function ---\n",
    "# This confirms our functions are working before optimization.\n",
    "initial_guess_params = [0.03, -0.01, 0.01, 1.5] # [beta0, beta1, beta2, tau]\n",
    "initial_error = objective_function(initial_guess_params, df)\n",
    "\n",
    "print(f\"Objective function is ready.\")\n",
    "print(f\"Test run: Initial error with guess parameters {initial_guess_params} is: {initial_error:.4f}\")"
   ]
  },
  {
   "cell_type": "markdown",
   "metadata": {},
   "source": [
    "### Step 5: Finding the Optimal Parameters\n",
    "\n",
    "This is where we use `scipy.optimize.minimize` to do the heavy lifting. We provide it with:\n",
    "- `fun`: Our `objective_function` to minimize.\n",
    "- `x0`: An `initial_guess` for the parameters to start the search.\n",
    "- `args`: Any extra arguments our function needs (in this case, the bond DataFrame).\n",
    "- `method`: The optimization algorithm to use. 'L-BFGS-B' is a good choice as it's efficient and respects bounds.\n",
    "- `bounds`: Constraints on the parameters. This is crucial for guiding the optimizer and preventing it from trying nonsensical values (e.g., a negative `τ` or an extreme interest rate)."
   ]
  },
  {
   "cell_type": "code",
   "execution_count": null,
   "metadata": {},
   "outputs": [
    {
     "name": "stdout",
     "output_type": "stream",
     "text": [
      "Starting optimization to fit Nelson-Siegel parameters...\n",
      "\n",
      "Optimization successful!\n",
      "Final minimized error: 142.4884\n",
      "\n",
      "Optimal Parameters:\n",
      "  β₀ (beta0): 0.049755\n",
      "  β₁ (beta1): 0.004015\n",
      "  β₂ (beta2): -0.028668\n",
      "  τ  (tau):   2.071638\n"
     ]
    }
   ],
   "source": [
    "# Set bounds to guide the optimizer.\n",
    "# (beta0, beta1, beta2, tau)\n",
    "bounds = [\n",
    "    (0, 0.2),      # beta0 (long-term rate) should be between 0% and 20%\n",
    "    (-0.2, 0.2),   # beta1 (slope) can be negative or positive\n",
    "    (-0.2, 0.2),   # beta2 (curvature) can be negative or positive\n",
    "    (0.1, 30.0)    # tau (scale) must be positive and is typically in this range\n",
    "]\n",
    "\n",
    "print(\"Starting optimization to fit Nelson-Siegel parameters...\")\n",
    "\n",
    "# Run the optimizer\n",
    "optimization_result = minimize(\n",
    "    fun=objective_function,     # The function to minimize\n",
    "    x0=initial_guess_params,    # The starting guess\n",
    "    args=(df,),                 # Extra arguments to pass to our function\n",
    "    method='L-BFGS-B',\n",
    "    bounds=bounds  \n",
    ")\n",
    "\n",
    "# Extract and display the results\n",
    "if optimization_result.success:\n",
    "    optimal_params = optimization_result.x\n",
    "    final_error = optimization_result.fun\n",
    "    print(\"\\nOptimization successful!\")\n",
    "    print(f\"Final minimized error: {final_error:.4f}\")\n",
    "    print(\"\\nOptimal Parameters:\")\n",
    "    print(f\"  β₀ (beta0): {optimal_params[0]:.6f}\")\n",
    "    print(f\"  β₁ (beta1): {optimal_params[1]:.6f}\")\n",
    "    print(f\"  β₂ (beta2): {optimal_params[2]:.6f}\")\n",
    "    print(f\"  τ  (tau):   {optimal_params[3]:.6f}\")\n",
    "else:\n",
    "    print(\"\\nOptimization failed to converge.\")\n",
    "    optimal_params = initial_guess_params # Fallback to guess if needed"
   ]
  },
  {
   "cell_type": "markdown",
   "metadata": {},
   "source": [
    "### Step 6: Visualization\n",
    "\n",
    "With our optimal parameters, we can now generate and plot the smooth yield curve. To validate our results, we will plot this curve alongside the individual market-implied yields for each bond.\n",
    "\n",
    "To do this, we first need to calculate the **Yield-to-Maturity (YTM)** for each bond. The YTM is the single discount rate that, when applied to all of a bond's cash flows, makes their total present value equal to the bond's market price. We use a numerical root-finder (`scipy.optimize.brentq`) to solve for this rate for each bond.\n",
    "\n",
    "The final plot will show:\n",
    "- **A smooth line:** The Nelson-Siegel yield curve generated from our optimal parameters.\n",
    "- **Scatter points:** The YTM of each individual bond, plotted against its maturity. \n",
    "\n",
    "If the scatter points lie close to the smooth line, our model is a good fit for the market data."
   ]
  },
  {
   "cell_type": "code",
   "execution_count": 7,
   "metadata": {},
   "outputs": [
    {
     "data": {
      "application/vnd.plotly.v1+json": {
       "config": {
        "plotlyServerURL": "https://plot.ly"
       },
       "data": [
        {
         "line": {
          "width": 3
         },
         "mode": "lines",
         "name": "Fitted Nelson-Siegel Curve",
         "type": "scatter",
         "x": {
          "bdata": "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",
          "dtype": "f8"
         },
         "y": [
          5.377032944717845,
          5.25991023000897,
          5.153412645415429,
          5.056693016489671,
          4.9689688865428945,
          4.889517668402098,
          4.817672155543229,
          4.752816366131075,
          4.694381695438048,
          4.641843353913527,
          4.594717069843258,
          4.552556037084166,
          4.51494808979262,
          4.481513087392073,
          4.451900494256628,
          4.425787139727649,
          4.402875145137551,
          4.382890005494532,
          4.3655788143898295,
          4.3507086215304716,
          4.338064913080075,
          4.327450205712891,
          4.3186827459557104,
          4.311595307012849,
          4.306034075844237,
          4.301857623799499,
          4.298935954604576,
          4.297149623954814,
          4.296388925392403,
          4.2965531375387,
          4.29754982811591,
          4.299294210529727,
          4.30170854909693,
          4.3047216092913505,
          4.30826814964973,
          4.312288452227464,
          4.3167278887243175,
          4.321536519613415,
          4.326668723804359,
          4.332082856554228,
          4.3377409335097745,
          4.343608338921079,
          4.349653556212414,
          4.35584791923071,
          4.362165382616869,
          4.368582309860661,
          4.375077277707047,
          4.381630895680863,
          4.388225639588631,
          4.394845697941293,
          4.4014768303204015,
          4.4081062367832375,
          4.414722437469829,
          4.4213151616373905,
          4.427875245405604,
          4.434394537549748,
          4.440865812728366,
          4.447282691578057,
          4.453639567150571,
          4.459931537206766,
          4.466154341918435,
          4.472304306562772,
          4.478378288825503,
          4.484373630357621,
          4.490288112257415,
          4.496119914174311,
          4.5018675767538845,
          4.507529967164735,
          4.513106247467439,
          4.518595845604057,
          4.523998428803418,
          4.529313879213011,
          4.534542271582658,
          4.539683852838515,
          4.544739023398189,
          4.549708320089238,
          4.554592400543772,
          4.559392028951711,
          4.564108063064169,
          4.56874144234687,
          4.573293177191126,
          4.57776433909709,
          4.582156051750552,
          4.5864694829206565,
          4.590705837111551,
          4.594866348906154,
          4.598952276945079,
          4.602964898488167,
          4.606905504510199,
          4.61077539528616,
          4.614575876424913,
          4.618308255313415,
          4.621973837936542,
          4.6255739260404365,
          4.629109814609741,
          4.632582789631536,
          4.635994126120895,
          4.639345086385028,
          4.642636918504821,
          4.6458708550142775,
          4.649048111759969,
          4.652169886924034,
          4.655237360195634,
          4.658251692076963,
          4.661214023311135,
          4.664125474420224,
          4.666987145342781,
          4.669800115161004,
          4.672565441908583,
          4.675284162450979,
          4.6779572924306265,
          4.680585826270138,
          4.683170737227267,
          4.685712977495826,
          4.688213478347357,
          4.690673150308739,
          4.693092883371383,
          4.695473547228037,
          4.697815991533596,
          4.700121046186617,
          4.702389521628576,
          4.704622209158132,
          4.7068198812579904,
          4.708983291932109,
          4.711113177051258,
          4.71321025470514,
          4.71527522555943,
          4.7173087732162635,
          4.719311564576886,
          4.721284250205275,
          4.723227464691685,
          4.725141827015182,
          4.727027940904361,
          4.728886395195474,
          4.73071776418736,
          4.732522607992598,
          4.734301472884379,
          4.736054891638692,
          4.737783383871435,
          4.7394874563701475,
          4.7411676034201005,
          4.742824307124518,
          4.74445803771876,
          4.7460692538783,
          4.747658403020422,
          4.749225921599518,
          4.750772235395951,
          4.752297759798454,
          4.753802900080033,
          4.755288051667404,
          4.756753600403977,
          4.7581999228064245,
          4.759627386314894,
          4.761036349536921,
          4.762427162485116,
          4.763800166808717,
          4.765155696019077,
          4.766494075709211,
          4.767815623767476,
          4.7691206505854975,
          4.770409459260478,
          4.771682345791948,
          4.772939599273131,
          4.774181502076991,
          4.7754083300371235,
          4.776620352623566,
          4.777817833113689,
          4.779001028758241,
          4.780170190942725,
          4.781325565344153,
          4.782467392083367,
          4.783595905872989,
          4.784711336161142,
          4.785813907271045,
          4.786903838536606,
          4.787981344434103,
          4.789046634710077,
          4.79009991450554,
          4.791141384476598,
          4.792171240911591,
          4.793189675844856,
          4.7941968771672006,
          4.795193028733197,
          4.796178310465373,
          4.797152898455398,
          4.798116965062362,
          4.799070679008211,
          4.8000142054704575,
          4.800947706172205,
          4.801871339469601,
          4.802785260436789,
          4.803689620948416,
          4.804584569759792,
          4.805470252584766,
          4.806346812171372,
          4.807214388375343,
          4.808073118231525,
          4.8089231360232825,
          4.809764573349932,
          4.810597559192292
         ]
        },
        {
         "customdata": {
          "bdata": "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",
          "dtype": "f8",
          "shape": "347, 2"
         },
         "hovertemplate": "<b>Maturity:</b> %{x:.2f} years<br><b>YTM:</b> %{y:.3f}%<br><b>Coupon:</b> %{customdata[0]:.3f}%<br><b>Price:</b> %{customdata[1]:.4f}<extra></extra>",
         "marker": {
          "opacity": 0.7,
          "size": 8
         },
         "mode": "markers",
         "name": "Individual Bond YTMs",
         "type": "scatter",
         "x": {
          "bdata": "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",
          "dtype": "f8"
         },
         "y": {
          "bdata": "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",
          "dtype": "f8"
         }
        }
       ],
       "layout": {
        "font": {
         "size": 12
        },
        "legend": {
         "x": 0.8,
         "xanchor": "left",
         "y": 0.98,
         "yanchor": "top"
        },
        "template": {
         "data": {
          "bar": [
           {
            "error_x": {
             "color": "#2a3f5f"
            },
            "error_y": {
             "color": "#2a3f5f"
            },
            "marker": {
             "line": {
              "color": "white",
              "width": 0.5
             },
             "pattern": {
              "fillmode": "overlay",
              "size": 10,
              "solidity": 0.2
             }
            },
            "type": "bar"
           }
          ],
          "barpolar": [
           {
            "marker": {
             "line": {
              "color": "white",
              "width": 0.5
             },
             "pattern": {
              "fillmode": "overlay",
              "size": 10,
              "solidity": 0.2
             }
            },
            "type": "barpolar"
           }
          ],
          "carpet": [
           {
            "aaxis": {
             "endlinecolor": "#2a3f5f",
             "gridcolor": "#C8D4E3",
             "linecolor": "#C8D4E3",
             "minorgridcolor": "#C8D4E3",
             "startlinecolor": "#2a3f5f"
            },
            "baxis": {
             "endlinecolor": "#2a3f5f",
             "gridcolor": "#C8D4E3",
             "linecolor": "#C8D4E3",
             "minorgridcolor": "#C8D4E3",
             "startlinecolor": "#2a3f5f"
            },
            "type": "carpet"
           }
          ],
          "choropleth": [
           {
            "colorbar": {
             "outlinewidth": 0,
             "ticks": ""
            },
            "type": "choropleth"
           }
          ],
          "contour": [
           {
            "colorbar": {
             "outlinewidth": 0,
             "ticks": ""
            },
            "colorscale": [
             [
              0,
              "#0d0887"
             ],
             [
              0.1111111111111111,
              "#46039f"
             ],
             [
              0.2222222222222222,
              "#7201a8"
             ],
             [
              0.3333333333333333,
              "#9c179e"
             ],
             [
              0.4444444444444444,
              "#bd3786"
             ],
             [
              0.5555555555555556,
              "#d8576b"
             ],
             [
              0.6666666666666666,
              "#ed7953"
             ],
             [
              0.7777777777777778,
              "#fb9f3a"
             ],
             [
              0.8888888888888888,
              "#fdca26"
             ],
             [
              1,
              "#f0f921"
             ]
            ],
            "type": "contour"
           }
          ],
          "contourcarpet": [
           {
            "colorbar": {
             "outlinewidth": 0,
             "ticks": ""
            },
            "type": "contourcarpet"
           }
          ],
          "heatmap": [
           {
            "colorbar": {
             "outlinewidth": 0,
             "ticks": ""
            },
            "colorscale": [
             [
              0,
              "#0d0887"
             ],
             [
              0.1111111111111111,
              "#46039f"
             ],
             [
              0.2222222222222222,
              "#7201a8"
             ],
             [
              0.3333333333333333,
              "#9c179e"
             ],
             [
              0.4444444444444444,
              "#bd3786"
             ],
             [
              0.5555555555555556,
              "#d8576b"
             ],
             [
              0.6666666666666666,
              "#ed7953"
             ],
             [
              0.7777777777777778,
              "#fb9f3a"
             ],
             [
              0.8888888888888888,
              "#fdca26"
             ],
             [
              1,
              "#f0f921"
             ]
            ],
            "type": "heatmap"
           }
          ],
          "histogram": [
           {
            "marker": {
             "pattern": {
              "fillmode": "overlay",
              "size": 10,
              "solidity": 0.2
             }
            },
            "type": "histogram"
           }
          ],
          "histogram2d": [
           {
            "colorbar": {
             "outlinewidth": 0,
             "ticks": ""
            },
            "colorscale": [
             [
              0,
              "#0d0887"
             ],
             [
              0.1111111111111111,
              "#46039f"
             ],
             [
              0.2222222222222222,
              "#7201a8"
             ],
             [
              0.3333333333333333,
              "#9c179e"
             ],
             [
              0.4444444444444444,
              "#bd3786"
             ],
             [
              0.5555555555555556,
              "#d8576b"
             ],
             [
              0.6666666666666666,
              "#ed7953"
             ],
             [
              0.7777777777777778,
              "#fb9f3a"
             ],
             [
              0.8888888888888888,
              "#fdca26"
             ],
             [
              1,
              "#f0f921"
             ]
            ],
            "type": "histogram2d"
           }
          ],
          "histogram2dcontour": [
           {
            "colorbar": {
             "outlinewidth": 0,
             "ticks": ""
            },
            "colorscale": [
             [
              0,
              "#0d0887"
             ],
             [
              0.1111111111111111,
              "#46039f"
             ],
             [
              0.2222222222222222,
              "#7201a8"
             ],
             [
              0.3333333333333333,
              "#9c179e"
             ],
             [
              0.4444444444444444,
              "#bd3786"
             ],
             [
              0.5555555555555556,
              "#d8576b"
             ],
             [
              0.6666666666666666,
              "#ed7953"
             ],
             [
              0.7777777777777778,
              "#fb9f3a"
             ],
             [
              0.8888888888888888,
              "#fdca26"
             ],
             [
              1,
              "#f0f921"
             ]
            ],
            "type": "histogram2dcontour"
           }
          ],
          "mesh3d": [
           {
            "colorbar": {
             "outlinewidth": 0,
             "ticks": ""
            },
            "type": "mesh3d"
           }
          ],
          "parcoords": [
           {
            "line": {
             "colorbar": {
              "outlinewidth": 0,
              "ticks": ""
             }
            },
            "type": "parcoords"
           }
          ],
          "pie": [
           {
            "automargin": true,
            "type": "pie"
           }
          ],
          "scatter": [
           {
            "fillpattern": {
             "fillmode": "overlay",
             "size": 10,
             "solidity": 0.2
            },
            "type": "scatter"
           }
          ],
          "scatter3d": [
           {
            "line": {
             "colorbar": {
              "outlinewidth": 0,
              "ticks": ""
             }
            },
            "marker": {
             "colorbar": {
              "outlinewidth": 0,
              "ticks": ""
             }
            },
            "type": "scatter3d"
           }
          ],
          "scattercarpet": [
           {
            "marker": {
             "colorbar": {
              "outlinewidth": 0,
              "ticks": ""
             }
            },
            "type": "scattercarpet"
           }
          ],
          "scattergeo": [
           {
            "marker": {
             "colorbar": {
              "outlinewidth": 0,
              "ticks": ""
             }
            },
            "type": "scattergeo"
           }
          ],
          "scattergl": [
           {
            "marker": {
             "colorbar": {
              "outlinewidth": 0,
              "ticks": ""
             }
            },
            "type": "scattergl"
           }
          ],
          "scattermap": [
           {
            "marker": {
             "colorbar": {
              "outlinewidth": 0,
              "ticks": ""
             }
            },
            "type": "scattermap"
           }
          ],
          "scattermapbox": [
           {
            "marker": {
             "colorbar": {
              "outlinewidth": 0,
              "ticks": ""
             }
            },
            "type": "scattermapbox"
           }
          ],
          "scatterpolar": [
           {
            "marker": {
             "colorbar": {
              "outlinewidth": 0,
              "ticks": ""
             }
            },
            "type": "scatterpolar"
           }
          ],
          "scatterpolargl": [
           {
            "marker": {
             "colorbar": {
              "outlinewidth": 0,
              "ticks": ""
             }
            },
            "type": "scatterpolargl"
           }
          ],
          "scatterternary": [
           {
            "marker": {
             "colorbar": {
              "outlinewidth": 0,
              "ticks": ""
             }
            },
            "type": "scatterternary"
           }
          ],
          "surface": [
           {
            "colorbar": {
             "outlinewidth": 0,
             "ticks": ""
            },
            "colorscale": [
             [
              0,
              "#0d0887"
             ],
             [
              0.1111111111111111,
              "#46039f"
             ],
             [
              0.2222222222222222,
              "#7201a8"
             ],
             [
              0.3333333333333333,
              "#9c179e"
             ],
             [
              0.4444444444444444,
              "#bd3786"
             ],
             [
              0.5555555555555556,
              "#d8576b"
             ],
             [
              0.6666666666666666,
              "#ed7953"
             ],
             [
              0.7777777777777778,
              "#fb9f3a"
             ],
             [
              0.8888888888888888,
              "#fdca26"
             ],
             [
              1,
              "#f0f921"
             ]
            ],
            "type": "surface"
           }
          ],
          "table": [
           {
            "cells": {
             "fill": {
              "color": "#EBF0F8"
             },
             "line": {
              "color": "white"
             }
            },
            "header": {
             "fill": {
              "color": "#C8D4E3"
             },
             "line": {
              "color": "white"
             }
            },
            "type": "table"
           }
          ]
         },
         "layout": {
          "annotationdefaults": {
           "arrowcolor": "#2a3f5f",
           "arrowhead": 0,
           "arrowwidth": 1
          },
          "autotypenumbers": "strict",
          "coloraxis": {
           "colorbar": {
            "outlinewidth": 0,
            "ticks": ""
           }
          },
          "colorscale": {
           "diverging": [
            [
             0,
             "#8e0152"
            ],
            [
             0.1,
             "#c51b7d"
            ],
            [
             0.2,
             "#de77ae"
            ],
            [
             0.3,
             "#f1b6da"
            ],
            [
             0.4,
             "#fde0ef"
            ],
            [
             0.5,
             "#f7f7f7"
            ],
            [
             0.6,
             "#e6f5d0"
            ],
            [
             0.7,
             "#b8e186"
            ],
            [
             0.8,
             "#7fbc41"
            ],
            [
             0.9,
             "#4d9221"
            ],
            [
             1,
             "#276419"
            ]
           ],
           "sequential": [
            [
             0,
             "#0d0887"
            ],
            [
             0.1111111111111111,
             "#46039f"
            ],
            [
             0.2222222222222222,
             "#7201a8"
            ],
            [
             0.3333333333333333,
             "#9c179e"
            ],
            [
             0.4444444444444444,
             "#bd3786"
            ],
            [
             0.5555555555555556,
             "#d8576b"
            ],
            [
             0.6666666666666666,
             "#ed7953"
            ],
            [
             0.7777777777777778,
             "#fb9f3a"
            ],
            [
             0.8888888888888888,
             "#fdca26"
            ],
            [
             1,
             "#f0f921"
            ]
           ],
           "sequentialminus": [
            [
             0,
             "#0d0887"
            ],
            [
             0.1111111111111111,
             "#46039f"
            ],
            [
             0.2222222222222222,
             "#7201a8"
            ],
            [
             0.3333333333333333,
             "#9c179e"
            ],
            [
             0.4444444444444444,
             "#bd3786"
            ],
            [
             0.5555555555555556,
             "#d8576b"
            ],
            [
             0.6666666666666666,
             "#ed7953"
            ],
            [
             0.7777777777777778,
             "#fb9f3a"
            ],
            [
             0.8888888888888888,
             "#fdca26"
            ],
            [
             1,
             "#f0f921"
            ]
           ]
          },
          "colorway": [
           "#636efa",
           "#EF553B",
           "#00cc96",
           "#ab63fa",
           "#FFA15A",
           "#19d3f3",
           "#FF6692",
           "#B6E880",
           "#FF97FF",
           "#FECB52"
          ],
          "font": {
           "color": "#2a3f5f"
          },
          "geo": {
           "bgcolor": "white",
           "lakecolor": "white",
           "landcolor": "white",
           "showlakes": true,
           "showland": true,
           "subunitcolor": "#C8D4E3"
          },
          "hoverlabel": {
           "align": "left"
          },
          "hovermode": "closest",
          "mapbox": {
           "style": "light"
          },
          "paper_bgcolor": "white",
          "plot_bgcolor": "white",
          "polar": {
           "angularaxis": {
            "gridcolor": "#EBF0F8",
            "linecolor": "#EBF0F8",
            "ticks": ""
           },
           "bgcolor": "white",
           "radialaxis": {
            "gridcolor": "#EBF0F8",
            "linecolor": "#EBF0F8",
            "ticks": ""
           }
          },
          "scene": {
           "xaxis": {
            "backgroundcolor": "white",
            "gridcolor": "#DFE8F3",
            "gridwidth": 2,
            "linecolor": "#EBF0F8",
            "showbackground": true,
            "ticks": "",
            "zerolinecolor": "#EBF0F8"
           },
           "yaxis": {
            "backgroundcolor": "white",
            "gridcolor": "#DFE8F3",
            "gridwidth": 2,
            "linecolor": "#EBF0F8",
            "showbackground": true,
            "ticks": "",
            "zerolinecolor": "#EBF0F8"
           },
           "zaxis": {
            "backgroundcolor": "white",
            "gridcolor": "#DFE8F3",
            "gridwidth": 2,
            "linecolor": "#EBF0F8",
            "showbackground": true,
            "ticks": "",
            "zerolinecolor": "#EBF0F8"
           }
          },
          "shapedefaults": {
           "line": {
            "color": "#2a3f5f"
           }
          },
          "ternary": {
           "aaxis": {
            "gridcolor": "#DFE8F3",
            "linecolor": "#A2B1C6",
            "ticks": ""
           },
           "baxis": {
            "gridcolor": "#DFE8F3",
            "linecolor": "#A2B1C6",
            "ticks": ""
           },
           "bgcolor": "white",
           "caxis": {
            "gridcolor": "#DFE8F3",
            "linecolor": "#A2B1C6",
            "ticks": ""
           }
          },
          "title": {
           "x": 0.05
          },
          "xaxis": {
           "automargin": true,
           "gridcolor": "#EBF0F8",
           "linecolor": "#EBF0F8",
           "ticks": "",
           "title": {
            "standoff": 15
           },
           "zerolinecolor": "#EBF0F8",
           "zerolinewidth": 2
          },
          "yaxis": {
           "automargin": true,
           "gridcolor": "#EBF0F8",
           "linecolor": "#EBF0F8",
           "ticks": "",
           "title": {
            "standoff": 15
           },
           "zerolinecolor": "#EBF0F8",
           "zerolinewidth": 2
          }
         }
        },
        "title": {
         "text": "<b>USD Treasury Yield Curve (2025-02-28)</b>"
        },
        "xaxis": {
         "title": {
          "text": "Time to Maturity (Years)"
         }
        },
        "yaxis": {
         "ticksuffix": "%",
         "title": {
          "text": "Yield (%)"
         }
        }
       }
      }
     },
     "metadata": {},
     "output_type": "display_data"
    }
   ],
   "source": [
    "# --- Calculate YTM for each bond for the scatter plot ---\n",
    "def calculate_ytm(bond):\n",
    "    \"\"\"Calculates the continuously compounded YTM for a single bond.\"\"\"\n",
    "    try:\n",
    "        # Define an error function for the root-finder\n",
    "        def price_error(ytm):\n",
    "            pv = sum([cf * np.exp(-ytm * t) for t, cf in bond['Cashflows']])\n",
    "            return pv - bond['Market_Price']\n",
    "        \n",
    "        # Use Brent's method to find the root (the YTM) in a reasonable range\n",
    "        return brentq(price_error, -0.05, 0.25)\n",
    "    except ValueError:\n",
    "        # If the root-finder fails, return NaN (Not a Number)\n",
    "        return np.nan\n",
    "\n",
    "# Apply the YTM calculation to each bond\n",
    "df['YTM'] = df.apply(calculate_ytm, axis=1)\n",
    "\n",
    "# --- Prepare data for the smooth curve plot ---\n",
    "max_maturity = df['Maturity_in_Years'].max()\n",
    "plot_maturities = np.linspace(0, max_maturity + 1, 200) # x-axis for smooth curve\n",
    "plot_yields = [nelson_siegel_rate(t, *optimal_params) * 100 for t in plot_maturities] # y-axis\n",
    "\n",
    "# --- Create the interactive plot ---\n",
    "fig = go.Figure()\n",
    "\n",
    "# Add the smooth Nelson-Siegel curve\n",
    "fig.add_trace(go.Scatter(\n",
    "    x=plot_maturities,\n",
    "    y=plot_yields,\n",
    "    mode='lines',\n",
    "    line=dict(width=3),\n",
    "    name='Fitted Nelson-Siegel Curve'\n",
    "))\n",
    "\n",
    "# Add the scatter plot of individual bond YTMs\n",
    "fig.add_trace(go.Scatter(\n",
    "    x=df['Maturity_in_Years'],\n",
    "    y=df['YTM'] * 100,\n",
    "    mode='markers',\n",
    "    name='Individual Bond YTMs',\n",
    "    marker=dict(size=8, opacity=0.7),\n",
    "    # Custom hover text shows details for each bond\n",
    "    hovertemplate=(\n",
    "        \"<b>Maturity:</b> %{x:.2f} years<br>\"\n",
    "        \"<b>YTM:</b> %{y:.3f}%<br>\"\n",
    "        \"<b>Coupon:</b> %{customdata[0]:.3f}%<br>\"\n",
    "        \"<b>Price:</b> %{customdata[1]:.4f}\"\n",
    "        \"<extra></extra>\"\n",
    "    ),\n",
    "    customdata=df[['Cpn', 'Market_Price']]\n",
    "))\n",
    "\n",
    "# Customize the plot's appearance\n",
    "fig.update_layout(\n",
    "    title=f\"<b>USD Treasury Yield Curve ({VALUATION_DATE.strftime('%Y-%m-%d')})</b>\",\n",
    "    xaxis_title=\"Time to Maturity (Years)\",\n",
    "    yaxis_title=\"Yield (%)\",\n",
    "    yaxis_ticksuffix=\"%\",\n",
    "    legend=dict(yanchor=\"top\", y=0.98, xanchor=\"left\", x=0.8),\n",
    "    font=dict(size=12)\n",
    ")\n",
    "\n",
    "fig.show()"
   ]
  },
  {
   "cell_type": "markdown",
   "metadata": {},
   "source": [
    "### Conclusion\n",
    "\n",
    "We have successfully constructed a smooth, continuous yield curve from a discrete set of bond data. \n",
    "\n",
    "The Nelson-Siegel model, combined with a numerical optimization routine, allowed us to find the four parameters that best describe the term structure of interest rates on the given valuation date. The final plot confirms that our fitted curve provides a reasonable approximation of the market, capturing the overall shape implied by the individual bond yields."
   ]
  }
 ],
 "metadata": {
  "kernelspec": {
   "display_name": "bootcamp_env",
   "language": "python",
   "name": "python3"
  },
  "language_info": {
   "codemirror_mode": {
    "name": "ipython",
    "version": 3
   },
   "file_extension": ".py",
   "mimetype": "text/x-python",
   "name": "python",
   "nbconvert_exporter": "python",
   "pygments_lexer": "ipython3",
   "version": "3.13.5"
  }
 },
 "nbformat": 4,
 "nbformat_minor": 5
}
