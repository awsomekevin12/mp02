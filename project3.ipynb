{
 "cells": [
  {
   "cell_type": "code",
   "execution_count": 24,
   "id": "e4593b0f",
   "metadata": {},
   "outputs": [
    {
     "name": "stdout",
     "output_type": "stream",
     "text": [
      "Requirement already satisfied: pandas in c:\\users\\kzhan\\miniconda3\\envs\\bootcamp_env\\lib\\site-packages (2.3.1)\n",
      "Requirement already satisfied: numpy in c:\\users\\kzhan\\miniconda3\\envs\\bootcamp_env\\lib\\site-packages (2.3.1)\n",
      "Requirement already satisfied: openpyxl in c:\\users\\kzhan\\miniconda3\\envs\\bootcamp_env\\lib\\site-packages (3.1.5)\n",
      "Requirement already satisfied: python-dateutil>=2.8.2 in c:\\users\\kzhan\\miniconda3\\envs\\bootcamp_env\\lib\\site-packages (from pandas) (2.9.0.post0)\n",
      "Requirement already satisfied: pytz>=2020.1 in c:\\users\\kzhan\\miniconda3\\envs\\bootcamp_env\\lib\\site-packages (from pandas) (2025.2)\n",
      "Requirement already satisfied: tzdata>=2022.7 in c:\\users\\kzhan\\miniconda3\\envs\\bootcamp_env\\lib\\site-packages (from pandas) (2025.2)\n",
      "Requirement already satisfied: et-xmlfile in c:\\users\\kzhan\\miniconda3\\envs\\bootcamp_env\\lib\\site-packages (from openpyxl) (2.0.0)\n",
      "Requirement already satisfied: six>=1.5 in c:\\users\\kzhan\\miniconda3\\envs\\bootcamp_env\\lib\\site-packages (from python-dateutil>=2.8.2->pandas) (1.17.0)\n",
      "Note: you may need to restart the kernel to use updated packages.\n"
     ]
    }
   ],
   "source": [
    "pip install pandas numpy openpyxl"
   ]
  },
  {
   "cell_type": "code",
   "execution_count": 25,
   "id": "112cbbfb",
   "metadata": {},
   "outputs": [
    {
     "name": "stdout",
     "output_type": "stream",
     "text": [
      "--- Phase 1: Starting Data Pre-processing ---\n",
      "Valuation Date set to: 2025-02-28\n",
      "\n",
      "Data pre-processing complete. DataFrame head:\n",
      "    Maturity  Market_Price  Maturity_in_Years  \\\n",
      "3 2025-03-15     99.886719           0.041068   \n",
      "4 2025-03-31     99.662109           0.084873   \n",
      "5 2025-03-31     99.964844           0.084873   \n",
      "6 2025-03-31     99.853516           0.084873   \n",
      "7 2025-04-15     99.791016           0.125941   \n",
      "\n",
      "                           Cashflows  \n",
      "3   [(0.04106776180698152, 100.875)]  \n",
      "4    [(0.08487337440109514, 100.25)]  \n",
      "5  [(0.08487337440109514, 101.9375)]  \n",
      "6  [(0.08487337440109514, 101.3125)]  \n",
      "7  [(0.12594113620807665, 101.3125)]  \n",
      "\n",
      "--- Phase 1 Complete ---\n",
      "\n",
      "--- Phase 2: Defining Model and Objective Functions ---\n",
      "Nelson-Siegel model functions are defined and ready for optimization.\n",
      "\n",
      "Test run: Initial error with guess parameters [0.06, -0.03, 0.03, 25.5] is: 2754.8240\n",
      "--- Phase 2 Complete ---\n"
     ]
    }
   ],
   "source": [
    "import pandas as pd\n",
    "import numpy as np\n",
    "from datetime import datetime\n",
    "from dateutil.relativedelta import relativedelta\n",
    "import io\n",
    "\n",
    "# --- Helper: Simulate the data.xlsx file for a runnable example ---\n",
    "# In your project, you will replace this block with:\n",
    "df_raw = pd.read_excel(\"data.xlsx\")\n",
    "\n",
    "\n",
    "\n",
    "# df_raw = pd.read_csv(io.StringIO(csv_data))\n",
    "\n",
    "# ==============================================================================\n",
    "# PHASE 1: DATA INGESTION AND PRE-PROCESSING\n",
    "# ==============================================================================\n",
    "print(\"--- Phase 1: Starting Data Pre-processing ---\")\n",
    "\n",
    "# Step 1.1: Load and Clean the Data\n",
    "df = df_raw.copy()\n",
    "\n",
    "# Convert data types\n",
    "df['Issue Date'] = pd.to_datetime(df['Issue Date'])\n",
    "df['Maturity'] = pd.to_datetime(df['Maturity'])\n",
    "for col in ['Bid Price', 'Ask Price', 'Cpn']:\n",
    "    df[col] = pd.to_numeric(df[col])\n",
    "\n",
    "# Filter for consistent credit risk and currency\n",
    "df = df[df['Currency'] == 'USD'].copy()\n",
    "# Note: The issuer filter is already implicitly handled by the sample data.\n",
    "\n",
    "# Step 1.2: Establish a Valuation Date\n",
    "# All calculations are relative to this date.\n",
    "# For reproducibility, we'll fix this date. In a real-world scenario,\n",
    "# this would often be set to the current business day.\n",
    "VALUATION_DATE = datetime(2025, 2, 28)\n",
    "print(f\"Valuation Date set to: {VALUATION_DATE.strftime('%Y-%m-%d')}\")\n",
    "\n",
    "# Filter out bonds that have already matured as of the valuation date\n",
    "df = df[df['Maturity'] > VALUATION_DATE].copy()\n",
    "\n",
    "# Step 1.3: Prepare Bond-Specific Data\n",
    "df['Market_Price'] = (df['Bid Price'] + df['Ask Price']) / 2\n",
    "df['Maturity_in_Years'] = (df['Maturity'] - VALUATION_DATE).dt.days / 365.25\n",
    "\n",
    "# Step 1.4: Generate Cash Flow Schedules for Each Bond\n",
    "def generate_cashflows(bond_row, valuation_date):\n",
    "    \"\"\"\n",
    "    Generates a list of future cash flows for a single bond.\n",
    "    Assumes semi-annual coupon payments.\n",
    "\n",
    "    Args:\n",
    "        bond_row (pd.Series): A row from the DataFrame representing one bond.\n",
    "        valuation_date (datetime): The date from which to value the cash flows.\n",
    "\n",
    "    Returns:\n",
    "        list: A list of tuples, where each tuple is (time_to_payment_in_years, amount).\n",
    "    \"\"\"\n",
    "    cashflows = []\n",
    "    coupon_rate = bond_row['Cpn']\n",
    "    maturity_date = bond_row['Maturity']\n",
    "    \n",
    "    # Final payment: Principal (100) + final coupon\n",
    "    final_coupon = coupon_rate / 2.0\n",
    "    cashflows.append((maturity_date, 100.0 + final_coupon))\n",
    "    \n",
    "    # Generate previous coupon payments\n",
    "    # Start from the maturity and step back 6 months at a time\n",
    "    current_payment_date = maturity_date\n",
    "    while True:\n",
    "        current_payment_date -= relativedelta(months=6)\n",
    "        if current_payment_date <= valuation_date:\n",
    "            break\n",
    "        cashflows.append((current_payment_date, final_coupon))\n",
    "        \n",
    "    # Convert dates to time in years from valuation_date and sort\n",
    "    cashflows_in_years = []\n",
    "    for payment_date, amount in cashflows:\n",
    "        time_to_payment = (payment_date - valuation_date).days / 365.25\n",
    "        cashflows_in_years.append((time_to_payment, amount))\n",
    "        \n",
    "    # Return sorted by time\n",
    "    return sorted(cashflows_in_years, key=lambda x: x[0])\n",
    "\n",
    "# Apply the function to each row of the DataFrame\n",
    "df['Cashflows'] = df.apply(generate_cashflows, axis=1, valuation_date=VALUATION_DATE)\n",
    "\n",
    "print(\"\\nData pre-processing complete. DataFrame head:\")\n",
    "print(df[['Maturity', 'Market_Price', 'Maturity_in_Years', 'Cashflows']].head())\n",
    "print(\"\\n--- Phase 1 Complete ---\")\n",
    "\n",
    "# ==============================================================================\n",
    "# PHASE 2: MODEL DEFINITION AND OBJECTIVE FUNCTION\n",
    "# ==============================================================================\n",
    "print(\"\\n--- Phase 2: Defining Model and Objective Functions ---\")\n",
    "\n",
    "# Step 2.1: Implement the Nelson-Siegel Formula\n",
    "def nelson_siegel_rate(t, beta0, beta1, beta2, tau):\n",
    "    \"\"\"\n",
    "    Calculates the continuously compounded spot rate for a given time 't'\n",
    "    using the Nelson-Siegel model.\n",
    "\n",
    "    Args:\n",
    "        t (float): Time in years.\n",
    "        beta0, beta1, beta2, tau: Nelson-Siegel model parameters.\n",
    "\n",
    "    Returns:\n",
    "        float: The spot rate r(t).\n",
    "    \"\"\"\n",
    "    # Handle the edge case of t=0 to avoid division by zero\n",
    "    if t < 1e-6:\n",
    "        return beta0 + beta1\n",
    "        \n",
    "    term1 = beta0\n",
    "    term2 = beta1 * (1 - np.exp(-t / tau)) / (t / tau)\n",
    "    term3 = beta2 * ((1 - np.exp(-t / tau)) / (t / tau) - np.exp(-t / tau))\n",
    "    \n",
    "    return term1 + term2 + term3\n",
    "\n",
    "# Step 2.2: Create the Bond Pricing Function\n",
    "def calculate_model_price(bond_cashflows, beta0, beta1, beta2, tau):\n",
    "    \"\"\"\n",
    "    Calculates the theoretical price of a bond given its cash flows and\n",
    "    the Nelson-Siegel parameters.\n",
    "\n",
    "    Args:\n",
    "        bond_cashflows (list): List of (time, amount) tuples for a bond.\n",
    "        beta0, beta1, beta2, tau: Nelson-Siegel model parameters.\n",
    "\n",
    "    Returns:\n",
    "        float: The theoretical clean price of the bond.\n",
    "    \"\"\"\n",
    "    total_present_value = 0.0\n",
    "    for t, cf_amount in bond_cashflows:\n",
    "        # Get the appropriate discount rate for this cash flow's maturity\n",
    "        rate = nelson_siegel_rate(t, beta0, beta1, beta2, tau)\n",
    "        # Discount the cash flow and add to total\n",
    "        total_present_value += cf_amount * np.exp(-rate * t)\n",
    "        \n",
    "    return total_present_value\n",
    "\n",
    "# Step 2.3: Define the Global Error (Objective) Function\n",
    "def sum_of_squared_errors(params, df_bonds):\n",
    "    \"\"\"\n",
    "    The objective function to be minimized. It calculates the sum of\n",
    "    squared differences between model prices and market prices for all bonds.\n",
    "\n",
    "    Args:\n",
    "        params (list or array): A list containing [beta0, beta1, beta2, tau].\n",
    "        df_bonds (pd.DataFrame): The DataFrame containing bond data, including\n",
    "                                 'Market_Price' and 'Cashflows'.\n",
    "\n",
    "    Returns:\n",
    "        float: The total squared error.\n",
    "    \"\"\"\n",
    "    beta0, beta1, beta2, tau = params\n",
    "    total_squared_error = 0.0\n",
    "    \n",
    "    for index, row in df_bonds.iterrows():\n",
    "        market_price = row['Market_Price']\n",
    "        cashflows = row['Cashflows']\n",
    "        \n",
    "        model_price = calculate_model_price(cashflows, beta0, beta1, beta2, tau)\n",
    "        \n",
    "        # We can add a weighting here, e.g., by duration, but for now\n",
    "        # a simple squared error is standard.\n",
    "        error = (model_price - market_price) ** 2\n",
    "        total_squared_error += error\n",
    "        \n",
    "    return total_squared_error\n",
    "\n",
    "print(\"Nelson-Siegel model functions are defined and ready for optimization.\")\n",
    "\n",
    "# --- Test the objective function with a sample set of parameters ---\n",
    "# This confirms our functions are working before we move to Phase 3.\n",
    "initial_guess_params = [0.06, -0.03, 0.03, 25.5] # [beta0, beta1, beta2, tau]\n",
    "initial_error = sum_of_squared_errors(initial_guess_params, df)\n",
    "print(f\"\\nTest run: Initial error with guess parameters {initial_guess_params} is: {initial_error:.4f}\")\n",
    "print(\"--- Phase 2 Complete ---\")\n",
    "\n",
    "# The output of this script ('df' and 'sum_of_squared_errors') is now ready\n",
    "# to be used in Phase 3 for the actual optimization."
   ]
  },
  {
   "cell_type": "code",
   "execution_count": 26,
   "id": "d69fdaa8",
   "metadata": {},
   "outputs": [
    {
     "name": "stdout",
     "output_type": "stream",
     "text": [
      "Requirement already satisfied: scipy in c:\\users\\kzhan\\miniconda3\\envs\\bootcamp_env\\lib\\site-packages (1.16.1)\n",
      "Requirement already satisfied: numpy<2.6,>=1.25.2 in c:\\users\\kzhan\\miniconda3\\envs\\bootcamp_env\\lib\\site-packages (from scipy) (2.3.1)\n",
      "Note: you may need to restart the kernel to use updated packages.\n"
     ]
    }
   ],
   "source": [
    "pip install scipy"
   ]
  },
  {
   "cell_type": "code",
   "execution_count": null,
   "id": "22464a24",
   "metadata": {},
   "outputs": [
    {
     "name": "stdout",
     "output_type": "stream",
     "text": [
      "\n",
      "--- Phase 3: Starting Optimization to Fit Parameters ---\n",
      "Initial guess for [β0, β1, β2, τ]: [0.03, -0.01, 0.01, 1.5]\n",
      "Error before optimization: 52500.6224\n"
     ]
    },
    {
     "name": "stderr",
     "output_type": "stream",
     "text": [
      "C:\\Users\\kzhan\\AppData\\Local\\Temp\\ipykernel_15008\\3151322896.py:41: DeprecationWarning: scipy.optimize: The `disp` and `iprint` options of the L-BFGS-B solver are deprecated and will be removed in SciPy 1.18.0.\n",
      "  optimization_result = minimize(\n"
     ]
    },
    {
     "name": "stdout",
     "output_type": "stream",
     "text": [
      "\n",
      "Optimization successful!\n",
      "Final minimized error: 134.9020\n",
      "Optimal Parameters [β0, β1, β2, τ]:\n",
      "  β0 = 0.049755\n",
      "  β1 = 0.004015\n",
      "  β2 = -0.028668\n",
      "  τ  = 2.071634\n",
      "--- Phase 3 Complete ---\n",
      "\n",
      "--- Phase 4: Generating Final Curve Function and Plot ---\n",
      "Yield at 2 years: 4.4861%\n",
      "Yield at 5 years: 4.3021%\n",
      "Yield at 10 years: 4.4919%\n",
      "\n",
      "Generating plot...\n",
      "\n",
      "Comparison of Market vs. Model Prices:\n",
      "      Maturity  Market_Price  Model_Price  Pricing_Error\n",
      "3   2025-03-15     99.886719   100.653813       0.767095\n",
      "4   2025-03-31     99.662109    99.799062       0.136952\n",
      "5   2025-03-31     99.964844   101.478971       1.514127\n",
      "6   2025-03-31     99.853516   100.856782       1.003267\n",
      "7   2025-04-15     99.791016   100.640862       0.849847\n",
      "..         ...           ...          ...            ...\n",
      "342 2054-02-15     93.398438    92.024885      -1.373552\n",
      "343 2054-05-15     99.460938    99.087092      -0.373846\n",
      "344 2054-08-15     93.554688    91.934667      -1.620021\n",
      "345 2054-11-15     97.640625    97.004954      -0.635671\n",
      "346 2055-02-15     99.781250    97.848937      -1.932313\n",
      "\n",
      "[344 rows x 4 columns]\n"
     ]
    },
    {
     "data": {
      "image/png": "[encoded data removed]",
      "text/plain": [
       "<Figure size 1200x700 with 1 Axes>"
      ]
     },
     "metadata": {},
     "output_type": "display_data"
    },
    {
     "name": "stdout",
     "output_type": "stream",
     "text": [
      "--- Phase 4 Complete ---\n"
     ]
    }
   ],
   "source": [
    "# Assuming the code from Phase 1 and 2 has been run and the following\n",
    "# variables are in memory:\n",
    "# - df: The processed DataFrame with bond data and cashflows.\n",
    "# - sum_of_squared_errors: The objective function to minimize.\n",
    "# - nelson_siegel_rate: The function to calculate rates.\n",
    "# - VALUATION_DATE: The date for our analysis.\n",
    "\n",
    "# We will need these additional libraries for this part.\n",
    "from scipy.optimize import minimize\n",
    "import matplotlib.pyplot as plt\n",
    "import matplotlib.ticker as mticker\n",
    "\n",
    "# ==============================================================================\n",
    "# PHASE 3: OPTIMIZATION AND PARAMETER FITTING\n",
    "# ==============================================================================\n",
    "print(\"\\n--- Phase 3: Starting Optimization to Fit Parameters ---\")\n",
    "\n",
    "# Step 3.1: Set Up the Optimization\n",
    "# The optimizer needs a starting point. Your guess is a great starting point.\n",
    "# initial_guess_params = [0.06, -0.03, 0.03, 25.5]\n",
    "# Let's use a more standard initial guess, which often works well.\n",
    "initial_guess_params = [0.03, -0.01, 0.01, 1.5]\n",
    "\n",
    "print(f\"Initial guess for [β0, β1, β2, τ]: {initial_guess_params}\")\n",
    "initial_error = sum_of_squared_errors(initial_guess_params, df)\n",
    "print(f\"Error before optimization: {initial_error:.4f}\")\n",
    "\n",
    "# It's good practice to set bounds to guide the optimizer and prevent\n",
    "# it from trying nonsensical parameter values.\n",
    "# (beta0, beta1, beta2, tau)\n",
    "bounds = [\n",
    "    (0, 0.2),      # beta0 (long-term rate) should be between 0% and 20%\n",
    "    (-0.2, 0.2),   # beta1 (slope) can be negative or positive\n",
    "    (-0.2, 0.2),   # beta2 (curvature) can be negative or positive\n",
    "    (0.1, 30.0)    # tau (scale) must be positive and is typically in this range\n",
    "]\n",
    "\n",
    "# Step 3.2: Run the Optimizer\n",
    "# We use `scipy.optimize.minimize`.\n",
    "# 'L-BFGS-B' is a good method that respects bounds.\n",
    "optimization_result = minimize(\n",
    "    fun=sum_of_squared_errors,  # The function to minimize\n",
    "    x0=initial_guess_params,    # The starting guess\n",
    "    args=(df,),                 # Extra arguments to pass to our function (the DataFrame)\n",
    "    method='L-BFGS-B',\n",
    "    bounds=bounds,\n",
    "    options={'disp': True}      # Display convergence messages\n",
    ")\n",
    "\n",
    "# Step 3.3: Extract the Optimal Parameters\n",
    "if optimization_result.success:\n",
    "    optimal_params = optimization_result.x\n",
    "    final_error = optimization_result.fun\n",
    "    print(\"\\nOptimization successful!\")\n",
    "    print(f\"Final minimized error: {final_error:.4f}\")\n",
    "    print(f\"Optimal Parameters [β0, β1, β2, τ]:\")\n",
    "    print(f\"  β0 = {optimal_params[0]:.6f}\")\n",
    "    print(f\"  β1 = {optimal_params[1]:.6f}\")\n",
    "    print(f\"  β2 = {optimal_params[2]:.6f}\")\n",
    "    print(f\"  τ  = {optimal_params[3]:.6f}\")\n",
    "else:\n",
    "    print(\"\\nOptimization failed to converge.\")\n",
    "    print(optimization_result.message)\n",
    "    # Handle the failure case, maybe by exiting or using the initial guess\n",
    "    optimal_params = initial_guess_params\n",
    "\n",
    "print(\"--- Phase 3 Complete ---\")\n",
    "\n"
   ]
  },
  {
   "cell_type": "code",
   "execution_count": 29,
   "id": "c90ddefc",
   "metadata": {},
   "outputs": [
    {
     "name": "stdout",
     "output_type": "stream",
     "text": [
      "Collecting plotly\n",
      "  Downloading plotly-6.3.0-py3-none-any.whl.metadata (8.5 kB)\n",
      "Collecting narwhals>=1.15.1 (from plotly)\n",
      "  Downloading narwhals-2.5.0-py3-none-any.whl.metadata (11 kB)\n",
      "Requirement already satisfied: packaging in c:\\users\\kzhan\\miniconda3\\envs\\bootcamp_env\\lib\\site-packages (from plotly) (25.0)\n",
      "Downloading plotly-6.3.0-py3-none-any.whl (9.8 MB)\n",
      "   ---------------------------------------- 0.0/9.8 MB ? eta -:--:--\n",
      "   -- ------------------------------------- 0.5/9.8 MB 2.3 MB/s eta 0:00:04\n",
      "   --- ------------------------------------ 0.8/9.8 MB 2.2 MB/s eta 0:00:05\n",
      "   --- ------------------------------------ 0.8/9.8 MB 2.2 MB/s eta 0:00:05\n",
      "   ---- ----------------------------------- 1.0/9.8 MB 1.4 MB/s eta 0:00:07\n",
      "   ------ --------------------------------- 1.6/9.8 MB 1.5 MB/s eta 0:00:06\n",
      "   ------- -------------------------------- 1.8/9.8 MB 1.4 MB/s eta 0:00:06\n",
      "   --------- ------------------------------ 2.4/9.8 MB 1.5 MB/s eta 0:00:05\n",
      "   ---------- ----------------------------- 2.6/9.8 MB 1.6 MB/s eta 0:00:05\n",
      "   ------------ --------------------------- 3.1/9.8 MB 1.6 MB/s eta 0:00:05\n",
      "   -------------- ------------------------- 3.7/9.8 MB 1.7 MB/s eta 0:00:04\n",
      "   ---------------- ----------------------- 3.9/9.8 MB 1.7 MB/s eta 0:00:04\n",
      "   ----------------- ---------------------- 4.2/9.8 MB 1.7 MB/s eta 0:00:04\n",
      "   ------------------- -------------------- 4.7/9.8 MB 1.7 MB/s eta 0:00:03\n",
      "   --------------------- ------------------ 5.2/9.8 MB 1.8 MB/s eta 0:00:03\n",
      "   ----------------------- ---------------- 5.8/9.8 MB 1.8 MB/s eta 0:00:03\n",
      "   ------------------------- -------------- 6.3/9.8 MB 1.9 MB/s eta 0:00:02\n",
      "   -------------------------- ------------- 6.6/9.8 MB 1.9 MB/s eta 0:00:02\n",
      "   ---------------------------- ----------- 7.1/9.8 MB 1.9 MB/s eta 0:00:02\n",
      "   ------------------------------- -------- 7.6/9.8 MB 1.9 MB/s eta 0:00:02\n",
      "   --------------------------------- ------ 8.1/9.8 MB 1.9 MB/s eta 0:00:01\n",
      "   ----------------------------------- ---- 8.7/9.8 MB 2.0 MB/s eta 0:00:01\n",
      "   ------------------------------------- -- 9.2/9.8 MB 2.0 MB/s eta 0:00:01\n",
      "   ---------------------------------------  9.7/9.8 MB 2.0 MB/s eta 0:00:01\n",
      "   ---------------------------------------- 9.8/9.8 MB 2.0 MB/s eta 0:00:00\n",
      "Downloading narwhals-2.5.0-py3-none-any.whl (407 kB)\n",
      "Installing collected packages: narwhals, plotly\n",
      "\n",
      "   ---------------------------------------- 0/2 [narwhals]\n",
      "   ---------------------------------------- 0/2 [narwhals]\n",
      "   ---------------------------------------- 0/2 [narwhals]\n",
      "   ---------------------------------------- 0/2 [narwhals]\n",
      "   -------------------- ------------------- 1/2 [plotly]\n",
      "   -------------------- ------------------- 1/2 [plotly]\n",
      "   -------------------- ------------------- 1/2 [plotly]\n",
      "   -------------------- ------------------- 1/2 [plotly]\n",
      "   -------------------- ------------------- 1/2 [plotly]\n",
      "   -------------------- ------------------- 1/2 [plotly]\n",
      "   -------------------- ------------------- 1/2 [plotly]\n",
      "   -------------------- ------------------- 1/2 [plotly]\n",
      "   -------------------- ------------------- 1/2 [plotly]\n",
      "   -------------------- ------------------- 1/2 [plotly]\n",
      "   -------------------- ------------------- 1/2 [plotly]\n",
      "   -------------------- ------------------- 1/2 [plotly]\n",
      "   -------------------- ------------------- 1/2 [plotly]\n",
      "   -------------------- ------------------- 1/2 [plotly]\n",
      "   -------------------- ------------------- 1/2 [plotly]\n",
      "   -------------------- ------------------- 1/2 [plotly]\n",
      "   -------------------- ------------------- 1/2 [plotly]\n",
      "   -------------------- ------------------- 1/2 [plotly]\n",
      "   -------------------- ------------------- 1/2 [plotly]\n",
      "   -------------------- ------------------- 1/2 [plotly]\n",
      "   -------------------- ------------------- 1/2 [plotly]\n",
      "   -------------------- ------------------- 1/2 [plotly]\n",
      "   -------------------- ------------------- 1/2 [plotly]\n",
      "   -------------------- ------------------- 1/2 [plotly]\n",
      "   -------------------- ------------------- 1/2 [plotly]\n",
      "   -------------------- ------------------- 1/2 [plotly]\n",
      "   -------------------- ------------------- 1/2 [plotly]\n",
      "   -------------------- ------------------- 1/2 [plotly]\n",
      "   -------------------- ------------------- 1/2 [plotly]\n",
      "   -------------------- ------------------- 1/2 [plotly]\n",
      "   -------------------- ------------------- 1/2 [plotly]\n",
      "   -------------------- ------------------- 1/2 [plotly]\n",
      "   -------------------- ------------------- 1/2 [plotly]\n",
      "   -------------------- ------------------- 1/2 [plotly]\n",
      "   ---------------------------------------- 2/2 [plotly]\n",
      "\n",
      "Successfully installed narwhals-2.5.0 plotly-6.3.0\n",
      "Note: you may need to restart the kernel to use updated packages.\n"
     ]
    }
   ],
   "source": [
    "pip install plotly"
   ]
  },
  {
   "cell_type": "code",
   "execution_count": 30,
   "id": "3e36675e",
   "metadata": {},
   "outputs": [
    {
     "name": "stdout",
     "output_type": "stream",
     "text": [
      "\n",
      "--- Phase 4 (Plotly): Generating Final Curve Function and Interactive Plot ---\n",
      "\n",
      "Calculated YTM for each bond:\n",
      "     Maturity_in_Years  Market_Price       YTM\n",
      "3             0.041068     99.886719  0.239735\n",
      "4             0.084873     99.662109  0.069297\n",
      "5             0.084873     99.964844  0.230241\n",
      "6             0.084873     99.853516  0.170908\n",
      "7             0.125941     99.791016  0.120149\n",
      "..                 ...           ...       ...\n",
      "342          28.963723     93.398438  0.046247\n",
      "343          29.207392     99.460938  0.046891\n",
      "344          29.459274     93.554688  0.046115\n",
      "345          29.711157     97.640625  0.046754\n",
      "346          29.963039     99.781250  0.045962\n",
      "\n",
      "[344 rows x 3 columns]\n",
      "\n",
      "Generating interactive plot...\n"
     ]
    },
    {
     "data": {
      "application/vnd.plotly.v1+json": {
       "config": {
        "plotlyServerURL": "https://plot.ly"
       },
       "data": [
        {
         "line": {
          "width": 3
         },
         "mode": "lines",
         "name": "Fitted Nelson-Siegel Curve",
         "type": "scatter",
         "x": {
          "bdata": "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",
          "dtype": "f8"
         },
         "y": [
          5.377035895815312,
          5.259912700835652,
          5.153414695060251,
          5.056694697864834,
          4.968970246972441,
          4.889518750157516,
          4.817672996330651,
          4.752816999534295,
          4.694382151321195,
          4.641843658786924,
          4.594717247195697,
          4.552556107684529,
          4.514948071963571,
          4.481512997258269,
          4.451900345969724,
          4.4257869456701435,
          4.402874916107375,
          4.382889750872086,
          4.365578542289077,
          4.35070833893548,
          4.338064625968373,
          4.327449919166792,
          4.318682464262738,
          4.311595033756234,
          4.306033813984412,
          4.301857375747433,
          4.298935722287676,
          4.2971494088761215,
          4.296388728683686,
          4.296552960008033,
          4.297549670290257,
          4.299294072693001,
          4.301708431323976,
          4.30472151147822,
          4.308268071540635,
          4.312288393438715,
          4.316727848765551,
          4.321536497906382,
          4.326668719699497,
          4.332082869345275,
          4.33774096244659,
          4.343608383220882,
          4.349653615069578,
          4.355847991825288,
          4.3621654681219635,
          4.368582407448777,
          4.375077386555531,
          4.381631014976525,
          4.38822576853165,
          4.394845835748472,
          4.401476976227868,
          4.408106390048629,
          4.414722597374041,
          4.421315327485938,
          4.427875416529632,
          4.4343947133067605,
          4.440865992502677,
          4.447282874781027,
          4.453639753220649,
          4.459931725609362,
          4.466154532145648,
          4.472304498133004,
          4.478378481282966,
          4.484373823271763,
          4.4902883052222835,
          4.496120106807844,
          4.5018677686971795,
          4.507530158081269,
          4.513106437042275,
          4.518596033543028,
          4.5239986148323075,
          4.529314063076721,
          4.534542453044398,
          4.539684031678973,
          4.544739199414733,
          4.5497084930951175,
          4.554592570367351,
          4.5593921954356995,
          4.564108226064889,
          4.56874160173354,
          4.573293332845163,
          4.57776449091144,
          4.582156199629041,
          4.5864696267773715,
          4.590705976870237,
          4.594866484499638,
          4.598952408314726,
          4.602965025583345,
          4.606905627287781,
          4.610775513710045,
          4.614575990465566,
          4.61830836494743,
          4.621973943146236,
          4.625574026813447,
          4.629109910938662,
          4.6325828815135575,
          4.635994213557475,
          4.639345169381571,
          4.642636997070381,
          4.645870929161279,
          4.649048181503938,
          4.652169952283347,
          4.65523742119128,
          4.658251748732327,
          4.661214075651785,
          4.664125522473714,
          4.66698718913847,
          4.669800154729882,
          4.672565477283109,
          4.675284193664931,
          4.6779573195189545,
          4.680585849268842,
          4.683170756173264,
          4.68571299242684,
          4.68821348930181,
          4.6906731573256515,
          4.69309288649028,
          4.6954735464888655,
          4.697815986976639,
          4.700121037852428,
          4.702389509557899,
          4.704622193391849,
          4.706819861837056,
          4.708983268897498,
          4.711113150443916,
          4.713210224565943,
          4.715275191929132,
          4.717308736135465,
          4.719311524086001,
          4.721284206344491,
          4.723227417500942,
          4.725141776534144,
          4.72702788717239,
          4.72888633825161,
          4.730717704070302,
          4.732522544740687,
          4.734301406535582,
          4.73605482223059,
          4.737783311441208,
          4.739487380954569,
          4.741167525055523,
          4.742824225846873,
          4.7444579535635425,
          4.74606916688057,
          4.747658313214797,
          4.749225829020171,
          4.750772140076609,
          4.752297661772395,
          4.753802799380087,
          4.7552879483259485,
          4.756753494452942,
          4.758199814277293,
          4.759627275238702,
          4.76103623594426,
          4.7624270464061365,
          4.76380004827313,
          4.765155575056159,
          4.7664939523478065,
          4.767815498035997,
          4.769120522511941,
          4.770409328872412,
          4.771682213116532,
          4.772939464337109,
          4.774181364906706,
          4.775408190658515,
          4.77662021106218,
          4.777817689394678,
          4.779000882906377,
          4.780170042982396,
          4.781325415299377,
          4.78246723997779,
          4.783595751729896,
          4.784711180003458,
          4.785813749121345,
          4.786903678417117,
          4.7879811823667096,
          4.789046470716329,
          4.790099748606657,
          4.791141216693475,
          4.792171071264803,
          4.79318950435466,
          4.794196703853552,
          4.795192853615741,
          4.796178133563459,
          4.797152719788081,
          4.798116784648407,
          4.799070496866105,
          4.800014021618402,
          4.800947520628132,
          4.801871152251172,
          4.802785071561402,
          4.8036894304332085,
          4.80458437762165,
          4.80547005884032,
          4.8063466168370095,
          4.807214191467209,
          4.808072919765529,
          4.808922936015098,
          4.809764371815007,
          4.810597356145845
         ]
        },
        {
         "customdata": {
          "bdata": "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",
          "dtype": "f8",
          "shape": "344, 2"
         },
         "hovertemplate": "<b>Maturity:</b> %{x:.2f} years<br><b>YTM:</b> %{y:.3f}%<br><b>Coupon:</b> %{customdata[0]:.3f}%<br><b>Price:</b> %{customdata[1]:.4f}<extra></extra>",
         "marker": {
          "opacity": 0.7,
          "size": 8
         },
         "mode": "markers",
         "name": "Individual Bond YTMs",
         "type": "scatter",
         "x": {
          "bdata": "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",
          "dtype": "f8"
         },
         "y": {
          "bdata": "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",
          "dtype": "f8"
         }
        }
       ],
       "layout": {
        "height": 600,
        "legend": {
         "x": 0.8,
         "xanchor": "left",
         "y": 0.98,
         "yanchor": "top"
        },
        "template": {
         "data": {
          "bar": [
           {
            "error_x": {
             "color": "#2a3f5f"
            },
            "error_y": {
             "color": "#2a3f5f"
            },
            "marker": {
             "line": {
              "color": "white",
              "width": 0.5
             },
             "pattern": {
              "fillmode": "overlay",
              "size": 10,
              "solidity": 0.2
             }
            },
            "type": "bar"
           }
          ],
          "barpolar": [
           {
            "marker": {
             "line": {
              "color": "white",
              "width": 0.5
             },
             "pattern": {
              "fillmode": "overlay",
              "size": 10,
              "solidity": 0.2
             }
            },
            "type": "barpolar"
           }
          ],
          "carpet": [
           {
            "aaxis": {
             "endlinecolor": "#2a3f5f",
             "gridcolor": "#C8D4E3",
             "linecolor": "#C8D4E3",
             "minorgridcolor": "#C8D4E3",
             "startlinecolor": "#2a3f5f"
            },
            "baxis": {
             "endlinecolor": "#2a3f5f",
             "gridcolor": "#C8D4E3",
             "linecolor": "#C8D4E3",
             "minorgridcolor": "#C8D4E3",
             "startlinecolor": "#2a3f5f"
            },
            "type": "carpet"
           }
          ],
          "choropleth": [
           {
            "colorbar": {
             "outlinewidth": 0,
             "ticks": ""
            },
            "type": "choropleth"
           }
          ],
          "contour": [
           {
            "colorbar": {
             "outlinewidth": 0,
             "ticks": ""
            },
            "colorscale": [
             [
              0,
              "#0d0887"
             ],
             [
              0.1111111111111111,
              "#46039f"
             ],
             [
              0.2222222222222222,
              "#7201a8"
             ],
             [
              0.3333333333333333,
              "#9c179e"
             ],
             [
              0.4444444444444444,
              "#bd3786"
             ],
             [
              0.5555555555555556,
              "#d8576b"
             ],
             [
              0.6666666666666666,
              "#ed7953"
             ],
             [
              0.7777777777777778,
              "#fb9f3a"
             ],
             [
              0.8888888888888888,
              "#fdca26"
             ],
             [
              1,
              "#f0f921"
             ]
            ],
            "type": "contour"
           }
          ],
          "contourcarpet": [
           {
            "colorbar": {
             "outlinewidth": 0,
             "ticks": ""
            },
            "type": "contourcarpet"
           }
          ],
          "heatmap": [
           {
            "colorbar": {
             "outlinewidth": 0,
             "ticks": ""
            },
            "colorscale": [
             [
              0,
              "#0d0887"
             ],
             [
              0.1111111111111111,
              "#46039f"
             ],
             [
              0.2222222222222222,
              "#7201a8"
             ],
             [
              0.3333333333333333,
              "#9c179e"
             ],
             [
              0.4444444444444444,
              "#bd3786"
             ],
             [
              0.5555555555555556,
              "#d8576b"
             ],
             [
              0.6666666666666666,
              "#ed7953"
             ],
             [
              0.7777777777777778,
              "#fb9f3a"
             ],
             [
              0.8888888888888888,
              "#fdca26"
             ],
             [
              1,
              "#f0f921"
             ]
            ],
            "type": "heatmap"
           }
          ],
          "histogram": [
           {
            "marker": {
             "pattern": {
              "fillmode": "overlay",
              "size": 10,
              "solidity": 0.2
             }
            },
            "type": "histogram"
           }
          ],
          "histogram2d": [
           {
            "colorbar": {
             "outlinewidth": 0,
             "ticks": ""
            },
            "colorscale": [
             [
              0,
              "#0d0887"
             ],
             [
              0.1111111111111111,
              "#46039f"
             ],
             [
              0.2222222222222222,
              "#7201a8"
             ],
             [
              0.3333333333333333,
              "#9c179e"
             ],
             [
              0.4444444444444444,
              "#bd3786"
             ],
             [
              0.5555555555555556,
              "#d8576b"
             ],
             [
              0.6666666666666666,
              "#ed7953"
             ],
             [
              0.7777777777777778,
              "#fb9f3a"
             ],
             [
              0.8888888888888888,
              "#fdca26"
             ],
             [
              1,
              "#f0f921"
             ]
            ],
            "type": "histogram2d"
           }
          ],
          "histogram2dcontour": [
           {
            "colorbar": {
             "outlinewidth": 0,
             "ticks": ""
            },
            "colorscale": [
             [
              0,
              "#0d0887"
             ],
             [
              0.1111111111111111,
              "#46039f"
             ],
             [
              0.2222222222222222,
              "#7201a8"
             ],
             [
              0.3333333333333333,
              "#9c179e"
             ],
             [
              0.4444444444444444,
              "#bd3786"
             ],
             [
              0.5555555555555556,
              "#d8576b"
             ],
             [
              0.6666666666666666,
              "#ed7953"
             ],
             [
              0.7777777777777778,
              "#fb9f3a"
             ],
             [
              0.8888888888888888,
              "#fdca26"
             ],
             [
              1,
              "#f0f921"
             ]
            ],
            "type": "histogram2dcontour"
           }
          ],
          "mesh3d": [
           {
            "colorbar": {
             "outlinewidth": 0,
             "ticks": ""
            },
            "type": "mesh3d"
           }
          ],
          "parcoords": [
           {
            "line": {
             "colorbar": {
              "outlinewidth": 0,
              "ticks": ""
             }
            },
            "type": "parcoords"
           }
          ],
          "pie": [
           {
            "automargin": true,
            "type": "pie"
           }
          ],
          "scatter": [
           {
            "fillpattern": {
             "fillmode": "overlay",
             "size": 10,
             "solidity": 0.2
            },
            "type": "scatter"
           }
          ],
          "scatter3d": [
           {
            "line": {
             "colorbar": {
              "outlinewidth": 0,
              "ticks": ""
             }
            },
            "marker": {
             "colorbar": {
              "outlinewidth": 0,
              "ticks": ""
             }
            },
            "type": "scatter3d"
           }
          ],
          "scattercarpet": [
           {
            "marker": {
             "colorbar": {
              "outlinewidth": 0,
              "ticks": ""
             }
            },
            "type": "scattercarpet"
           }
          ],
          "scattergeo": [
           {
            "marker": {
             "colorbar": {
              "outlinewidth": 0,
              "ticks": ""
             }
            },
            "type": "scattergeo"
           }
          ],
          "scattergl": [
           {
            "marker": {
             "colorbar": {
              "outlinewidth": 0,
              "ticks": ""
             }
            },
            "type": "scattergl"
           }
          ],
          "scattermap": [
           {
            "marker": {
             "colorbar": {
              "outlinewidth": 0,
              "ticks": ""
             }
            },
            "type": "scattermap"
           }
          ],
          "scattermapbox": [
           {
            "marker": {
             "colorbar": {
              "outlinewidth": 0,
              "ticks": ""
             }
            },
            "type": "scattermapbox"
           }
          ],
          "scatterpolar": [
           {
            "marker": {
             "colorbar": {
              "outlinewidth": 0,
              "ticks": ""
             }
            },
            "type": "scatterpolar"
           }
          ],
          "scatterpolargl": [
           {
            "marker": {
             "colorbar": {
              "outlinewidth": 0,
              "ticks": ""
             }
            },
            "type": "scatterpolargl"
           }
          ],
          "scatterternary": [
           {
            "marker": {
             "colorbar": {
              "outlinewidth": 0,
              "ticks": ""
             }
            },
            "type": "scatterternary"
           }
          ],
          "surface": [
           {
            "colorbar": {
             "outlinewidth": 0,
             "ticks": ""
            },
            "colorscale": [
             [
              0,
              "#0d0887"
             ],
             [
              0.1111111111111111,
              "#46039f"
             ],
             [
              0.2222222222222222,
              "#7201a8"
             ],
             [
              0.3333333333333333,
              "#9c179e"
             ],
             [
              0.4444444444444444,
              "#bd3786"
             ],
             [
              0.5555555555555556,
              "#d8576b"
             ],
             [
              0.6666666666666666,
              "#ed7953"
             ],
             [
              0.7777777777777778,
              "#fb9f3a"
             ],
             [
              0.8888888888888888,
              "#fdca26"
             ],
             [
              1,
              "#f0f921"
             ]
            ],
            "type": "surface"
           }
          ],
          "table": [
           {
            "cells": {
             "fill": {
              "color": "#EBF0F8"
             },
             "line": {
              "color": "white"
             }
            },
            "header": {
             "fill": {
              "color": "#C8D4E3"
             },
             "line": {
              "color": "white"
             }
            },
            "type": "table"
           }
          ]
         },
         "layout": {
          "annotationdefaults": {
           "arrowcolor": "#2a3f5f",
           "arrowhead": 0,
           "arrowwidth": 1
          },
          "autotypenumbers": "strict",
          "coloraxis": {
           "colorbar": {
            "outlinewidth": 0,
            "ticks": ""
           }
          },
          "colorscale": {
           "diverging": [
            [
             0,
             "#8e0152"
            ],
            [
             0.1,
             "#c51b7d"
            ],
            [
             0.2,
             "#de77ae"
            ],
            [
             0.3,
             "#f1b6da"
            ],
            [
             0.4,
             "#fde0ef"
            ],
            [
             0.5,
             "#f7f7f7"
            ],
            [
             0.6,
             "#e6f5d0"
            ],
            [
             0.7,
             "#b8e186"
            ],
            [
             0.8,
             "#7fbc41"
            ],
            [
             0.9,
             "#4d9221"
            ],
            [
             1,
             "#276419"
            ]
           ],
           "sequential": [
            [
             0,
             "#0d0887"
            ],
            [
             0.1111111111111111,
             "#46039f"
            ],
            [
             0.2222222222222222,
             "#7201a8"
            ],
            [
             0.3333333333333333,
             "#9c179e"
            ],
            [
             0.4444444444444444,
             "#bd3786"
            ],
            [
             0.5555555555555556,
             "#d8576b"
            ],
            [
             0.6666666666666666,
             "#ed7953"
            ],
            [
             0.7777777777777778,
             "#fb9f3a"
            ],
            [
             0.8888888888888888,
             "#fdca26"
            ],
            [
             1,
             "#f0f921"
            ]
           ],
           "sequentialminus": [
            [
             0,
             "#0d0887"
            ],
            [
             0.1111111111111111,
             "#46039f"
            ],
            [
             0.2222222222222222,
             "#7201a8"
            ],
            [
             0.3333333333333333,
             "#9c179e"
            ],
            [
             0.4444444444444444,
             "#bd3786"
            ],
            [
             0.5555555555555556,
             "#d8576b"
            ],
            [
             0.6666666666666666,
             "#ed7953"
            ],
            [
             0.7777777777777778,
             "#fb9f3a"
            ],
            [
             0.8888888888888888,
             "#fdca26"
            ],
            [
             1,
             "#f0f921"
            ]
           ]
          },
          "colorway": [
           "#636efa",
           "#EF553B",
           "#00cc96",
           "#ab63fa",
           "#FFA15A",
           "#19d3f3",
           "#FF6692",
           "#B6E880",
           "#FF97FF",
           "#FECB52"
          ],
          "font": {
           "color": "#2a3f5f"
          },
          "geo": {
           "bgcolor": "white",
           "lakecolor": "white",
           "landcolor": "white",
           "showlakes": true,
           "showland": true,
           "subunitcolor": "#C8D4E3"
          },
          "hoverlabel": {
           "align": "left"
          },
          "hovermode": "closest",
          "mapbox": {
           "style": "light"
          },
          "paper_bgcolor": "white",
          "plot_bgcolor": "white",
          "polar": {
           "angularaxis": {
            "gridcolor": "#EBF0F8",
            "linecolor": "#EBF0F8",
            "ticks": ""
           },
           "bgcolor": "white",
           "radialaxis": {
            "gridcolor": "#EBF0F8",
            "linecolor": "#EBF0F8",
            "ticks": ""
           }
          },
          "scene": {
           "xaxis": {
            "backgroundcolor": "white",
            "gridcolor": "#DFE8F3",
            "gridwidth": 2,
            "linecolor": "#EBF0F8",
            "showbackground": true,
            "ticks": "",
            "zerolinecolor": "#EBF0F8"
           },
           "yaxis": {
            "backgroundcolor": "white",
            "gridcolor": "#DFE8F3",
            "gridwidth": 2,
            "linecolor": "#EBF0F8",
            "showbackground": true,
            "ticks": "",
            "zerolinecolor": "#EBF0F8"
           },
           "zaxis": {
            "backgroundcolor": "white",
            "gridcolor": "#DFE8F3",
            "gridwidth": 2,
            "linecolor": "#EBF0F8",
            "showbackground": true,
            "ticks": "",
            "zerolinecolor": "#EBF0F8"
           }
          },
          "shapedefaults": {
           "line": {
            "color": "#2a3f5f"
           }
          },
          "ternary": {
           "aaxis": {
            "gridcolor": "#DFE8F3",
            "linecolor": "#A2B1C6",
            "ticks": ""
           },
           "baxis": {
            "gridcolor": "#DFE8F3",
            "linecolor": "#A2B1C6",
            "ticks": ""
           },
           "bgcolor": "white",
           "caxis": {
            "gridcolor": "#DFE8F3",
            "linecolor": "#A2B1C6",
            "ticks": ""
           }
          },
          "title": {
           "x": 0.05
          },
          "xaxis": {
           "automargin": true,
           "gridcolor": "#EBF0F8",
           "linecolor": "#EBF0F8",
           "ticks": "",
           "title": {
            "standoff": 15
           },
           "zerolinecolor": "#EBF0F8",
           "zerolinewidth": 2
          },
          "yaxis": {
           "automargin": true,
           "gridcolor": "#EBF0F8",
           "linecolor": "#EBF0F8",
           "ticks": "",
           "title": {
            "standoff": 15
           },
           "zerolinecolor": "#EBF0F8",
           "zerolinewidth": 2
          }
         }
        },
        "title": {
         "font": {
          "size": 20
         },
         "text": "<b>USD Treasury Yield Curve (2025-02-28)</b>",
         "x": 0.5
        },
        "xaxis": {
         "title": {
          "text": "Time to Maturity (Years)"
         },
         "zeroline": false
        },
        "yaxis": {
         "ticksuffix": "%",
         "title": {
          "text": "Yield (%)"
         },
         "zeroline": false
        }
       }
      }
     },
     "metadata": {},
     "output_type": "display_data"
    },
    {
     "name": "stdout",
     "output_type": "stream",
     "text": [
      "--- Phase 4 (Plotly) Complete ---\n"
     ]
    }
   ],
   "source": [
    "from scipy.optimize import brentq\n",
    "\n",
    "# ==============================================================================\n",
    "# PHASE 4 (REVISED): YIELD CURVE VISUALIZATION WITH PLOTLY\n",
    "# ==============================================================================\n",
    "import plotly.graph_objects as go\n",
    "import plotly.io as pio\n",
    "\n",
    "# Set default plotly theme\n",
    "pio.templates.default = \"plotly_white\"\n",
    "\n",
    "print(\"\\n--- Phase 4 (Plotly): Generating Final Curve Function and Interactive Plot ---\")\n",
    "\n",
    "# Step 4.1: Develop the Final Yield Curve Function (same as before)\n",
    "def get_yield_curve_rate(t):\n",
    "    beta0_opt, beta1_opt, beta2_opt, tau_opt = optimal_params\n",
    "    return nelson_siegel_rate(t, beta0_opt, beta1_opt, beta2_opt, tau_opt)\n",
    "\n",
    "\n",
    "# --- New Step: Calculate YTM for each bond for the scatter plot ---\n",
    "def calculate_ytm(bond_row):\n",
    "    \"\"\"\n",
    "    Calculates the continuously compounded Yield-to-Maturity (YTM) for a single bond.\n",
    "    This requires finding the single discount rate 'y' that makes the bond's\n",
    "    theoretical price equal to its market price.\n",
    "    \"\"\"\n",
    "    market_price = bond_row['Market_Price']\n",
    "    cashflows = bond_row['Cashflows']\n",
    "    \n",
    "    # Define an error function for the root finder\n",
    "    def price_error(ytm):\n",
    "        pv = sum([cf * np.exp(-ytm * t) for t, cf in cashflows])\n",
    "        return pv - market_price\n",
    "\n",
    "    # Use a robust root-finding algorithm (Brent's method) to find the YTM\n",
    "    try:\n",
    "        # Search for a YTM between -0.05 ( -5%) and 0.25 (25%)\n",
    "        return brentq(price_error, -0.05, 0.25)\n",
    "    except ValueError:\n",
    "        # If the root isn't in the bracket, return NaN\n",
    "        return np.nan\n",
    "\n",
    "# Apply the YTM calculation to each bond in the DataFrame\n",
    "df['YTM'] = df.apply(calculate_ytm, axis=1)\n",
    "\n",
    "print(\"\\nCalculated YTM for each bond:\")\n",
    "print(df[['Maturity_in_Years', 'Market_Price', 'YTM']])\n",
    "\n",
    "\n",
    "# Step 4.2: Prepare Data for Plotting the Curve\n",
    "max_maturity = df['Maturity_in_Years'].max()\n",
    "plot_t = np.linspace(0, max_maturity + 1, 200) # x-axis for smooth curve\n",
    "plot_y = [get_yield_curve_rate(t) * 100 for t in plot_t] # y-axis for smooth curve\n",
    "\n",
    "\n",
    "# Step 4.3: Create the Interactive Visualization with Plotly\n",
    "print(\"\\nGenerating interactive plot...\")\n",
    "fig = go.Figure()\n",
    "\n",
    "# Add the smooth Nelson-Siegel curve trace\n",
    "fig.add_trace(go.Scatter(\n",
    "    x=plot_t,\n",
    "    y=plot_y,\n",
    "    mode='lines',\n",
    "    line=dict(width=3),\n",
    "    name='Fitted Nelson-Siegel Curve'\n",
    "))\n",
    "\n",
    "# Add the scatter plot of individual bond YTMs\n",
    "fig.add_trace(go.Scatter(\n",
    "    x=df['Maturity_in_Years'],\n",
    "    y=df['YTM'] * 100,\n",
    "    mode='markers',\n",
    "    name='Individual Bond YTMs',\n",
    "    marker=dict(size=8, opacity=0.7),\n",
    "    # Custom hover text to show details for each bond\n",
    "    hovertemplate=(\n",
    "        \"<b>Maturity:</b> %{x:.2f} years<br>\"\n",
    "        \"<b>YTM:</b> %{y:.3f}%<br>\"\n",
    "        \"<b>Coupon:</b> %{customdata[0]:.3f}%<br>\"\n",
    "        \"<b>Price:</b> %{customdata[1]:.4f}\"\n",
    "        \"<extra></extra>\" # Hides the trace name from the tooltip\n",
    "    ),\n",
    "    customdata=df[['Cpn', 'Market_Price']]\n",
    "))\n",
    "\n",
    "# Customize the layout of the plot\n",
    "fig.update_layout(\n",
    "    title=dict(\n",
    "        text=f\"<b>USD Treasury Yield Curve ({VALUATION_DATE.strftime('%Y-%m-%d')})</b>\",\n",
    "        x=0.5,\n",
    "        font=dict(size=20)\n",
    "    ),\n",
    "    xaxis_title=\"Time to Maturity (Years)\",\n",
    "    yaxis_title=\"Yield (%)\",\n",
    "    xaxis=dict(zeroline=False),\n",
    "    yaxis=dict(\n",
    "        zeroline=False,\n",
    "        ticksuffix=\"%\" # Adds a '%' sign to the y-axis ticks\n",
    "    ),\n",
    "    legend=dict(\n",
    "        yanchor=\"top\", y=0.98,\n",
    "        xanchor=\"left\", x=0.8\n",
    "    ),\n",
    "    height=600\n",
    ")\n",
    "\n",
    "# Show the figure\n",
    "fig.show()\n",
    "\n",
    "print(\"--- Phase 4 (Plotly) Complete ---\")"
   ]
  },
  {
   "cell_type": "code",
   "execution_count": null,
   "id": "13974875",
   "metadata": {},
   "outputs": [],
   "source": [
    "\n",
    "print(\"\\n--- Phase 4: Generating Final Curve Function and Plot ---\")\n",
    "\n",
    "# Step 4.1: Develop the Final Yield Curve Function\n",
    "# This function 'closes over' the optimal parameters, making it easy to use.\n",
    "def get_yield_curve_rate(t):\n",
    "    \"\"\"\n",
    "    Calculates the spot rate for a given time 't' using the\n",
    "    globally stored optimal Nelson-Siegel parameters.\n",
    "\n",
    "    Args:\n",
    "        t (float): Time in years.\n",
    "\n",
    "    Returns:\n",
    "        float: The continuously compounded spot rate.\n",
    "    \"\"\"\n",
    "    beta0_opt, beta1_opt, beta2_opt, tau_opt = optimal_params\n",
    "    return nelson_siegel_rate(t, beta0_opt, beta1_opt, beta2_opt, tau_opt)\n",
    "\n",
    "# Test the function for a few maturities\n",
    "print(f\"Yield at 2 years: {get_yield_curve_rate(2.0) * 100:.4f}%\")\n",
    "print(f\"Yield at 5 years: {get_yield_curve_rate(5.0) * 100:.4f}%\")\n",
    "print(f\"Yield at 10 years: {get_yield_curve_rate(10.0) * 100:.4f}%\")\n",
    "\n",
    "\n",
    "# Step 4.2: Prepare Data for Plotting\n",
    "# Create a smooth range of time points for our x-axis.\n",
    "max_maturity = df['Maturity_in_Years'].max()\n",
    "plot_t = np.linspace(0, max_maturity + 1, 200)\n",
    "\n",
    "# Calculate the yield for each point using our final function.\n",
    "# Multiply by 100 to show as a percentage.\n",
    "plot_y = [get_yield_curve_rate(t) * 100 for t in plot_t]\n",
    "\n",
    "# Step 4.3: Create the Visualization\n",
    "print(\"\\nGenerating plot...\")\n",
    "fig, ax = plt.subplots(figsize=(12, 7))\n",
    "\n",
    "# Plot the smooth curve\n",
    "ax.plot(plot_t, plot_y, lw=2, label='Fitted Nelson-Siegel Yield Curve')\n",
    "\n",
    "# --- Optional but recommended: Check model prices vs market prices ---\n",
    "# This is a great sanity check to see how well the model performed.\n",
    "model_prices = []\n",
    "market_prices = df['Market_Price'].tolist()\n",
    "for index, row in df.iterrows():\n",
    "    price = calculate_model_price(row['Cashflows'], *optimal_params)\n",
    "    model_prices.append(price)\n",
    "\n",
    "price_comparison = pd.DataFrame({\n",
    "    'Maturity': df['Maturity'],\n",
    "    'Market_Price': market_prices,\n",
    "    'Model_Price': model_prices\n",
    "})\n",
    "price_comparison['Pricing_Error'] = price_comparison['Model_Price'] - price_comparison['Market_Price']\n",
    "print(\"\\nComparison of Market vs. Model Prices:\")\n",
    "print(price_comparison)\n",
    "\n",
    "\n",
    "# Finalize the plot\n",
    "ax.set_title(f\"USD Treasury Yield Curve ({VALUATION_DATE.strftime('%Y-%m-%d')})\", fontsize=16)\n",
    "ax.set_xlabel(\"Time to Maturity (Years)\", fontsize=12)\n",
    "ax.set_ylabel(\"Continuously Compounded Spot Rate (%)\", fontsize=12)\n",
    "ax.grid(True, which='both', linestyle='--', linewidth=0.5)\n",
    "\n",
    "# Format y-axis to show percentage sign\n",
    "ax.yaxis.set_major_formatter(mticker.PercentFormatter())\n",
    "ax.legend()\n",
    "plt.tight_layout()\n",
    "plt.show()\n",
    "\n",
    "print(\"--- Phase 4 Complete ---\")"
   ]
  }
 ],
 "metadata": {
  "kernelspec": {
   "display_name": "bootcamp_env",
   "language": "python",
   "name": "python3"
  },
  "language_info": {
   "codemirror_mode": {
    "name": "ipython",
    "version": 3
   },
   "file_extension": ".py",
   "mimetype": "text/x-python",
   "name": "python",
   "nbconvert_exporter": "python",
   "pygments_lexer": "ipython3",
   "version": "3.13.5"
  }
 },
 "nbformat": 4,
 "nbformat_minor": 5
}
